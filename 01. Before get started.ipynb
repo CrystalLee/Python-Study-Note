{
 "cells": [
  {
   "cell_type": "markdown",
   "metadata": {
    "colab_type": "text",
    "id": "RMmFtxNqo1kV"
   },
   "source": [
    "# 1. Before get started\n",
    "\n",
    "## Python Enviroment \n",
    "\n",
    "### 1. Download and Install Anaconda\n",
    "* https://www.anaconda.com/distribution/\n",
    "\n",
    "\n",
    "### 2. Open Jupyter Notebook\n",
    "1. Via Anacoda\n",
    "2. Terminal"
   ]
  },
  {
   "cell_type": "markdown",
   "metadata": {
    "colab_type": "text",
    "id": "QmjbMhk4o1kX"
   },
   "source": [
    "### 3. Markdown\n",
    "* Cheat Sheet https://en.support.wordpress.com/markdown-quick-reference/\n",
    "* Online Editor https://stackedit.io/app#"
   ]
  },
  {
   "cell_type": "markdown",
   "metadata": {
    "colab_type": "text",
    "id": "1biU9eEPo1kY"
   },
   "source": [
    "### 4. Basic Python Libraries for Data Analytis\n",
    "1. **pandas** : Excel in Python - Data Manipulation \n",
    "- panda exercises https://github.com/guipsamora/pandas_exercises \n",
    "```python\n",
    "import pandas as pd \n",
    "```\n",
    "2. **matplotlib.pyplot** : Data Visualization\n",
    "```python\n",
    "import matplotlib.pyplot as plt\n",
    "```\n",
    "3. **numpy** : Data Analysis, Calcuation , processing\n",
    "```python\n",
    "import numpy as np\n",
    "```\n",
    "4. **Scikit-learn (sklearn)** : Machine Learning algorithms\n",
    "    - Classification\n",
    "    - Regression\n",
    "    - Clustering: SVM (Support Vector Machines), Random Forests, Gradient Boosting, k-means and DBSCAN\n",
    "    \n",
    "![alt text](https://drive.google.com/uc?id=15aE5uHbj5N_vpF2VaZ6a77_Y0FBS_g55)"
   ]
  },
  {
   "cell_type": "markdown",
   "metadata": {
    "colab_type": "text",
    "id": "nfDI2B7Lo1kZ"
   },
   "source": [
    "## 5. Shortcut\n",
    "\n",
    "Reference\n",
    "https://towardsdatascience.com/jypyter-notebook-shortcuts-bf0101a98330\n",
    "- `Shift + Enter` run the current cell, select below\n",
    "- `Alt + Enter` run the current cell, insert below (Alt = option)\n",
    "- `Ctrl + D` delete a line (works in bigQuery too)\n",
    "- `Ctrl + /` command a line (works in bigQuery too)\n",
    "- `Esc + a` create new cell above\n",
    "- `Esc + b` create new cell below"
   ]
  },
  {
   "cell_type": "markdown",
   "metadata": {
    "colab_type": "text",
    "id": "1y-5scM5o1ka"
   },
   "source": [
    "## 6. Data Types\n",
    "Reference https://www.tutorialsteacher.com/python/python-number-type\n",
    "1. Number\n",
    "1. String\n",
    "1. List\n",
    "1. Tuple\n",
    "1. Dictionary\n",
    "1. Dataframe (Pandas)\n",
    "\n",
    "\n",
    "\n",
    "\n",
    "\n"
   ]
  },
  {
   "cell_type": "markdown",
   "metadata": {
    "colab_type": "text",
    "id": "wsXAxTmAp2PX"
   },
   "source": [
    "## 6.1. Number\n",
    "> - `Integer`\n",
    "> - `Float`"
   ]
  },
  {
   "cell_type": "code",
   "execution_count": null,
   "metadata": {
    "colab": {},
    "colab_type": "code",
    "id": "GMWecu-Go1kc"
   },
   "outputs": [],
   "source": [
    "# Interger\n",
    "a=10\n",
    "b=2\n",
    "type(a)"
   ]
  },
  {
   "cell_type": "code",
   "execution_count": null,
   "metadata": {
    "colab": {},
    "colab_type": "code",
    "id": "slXZBPxVo1kh"
   },
   "outputs": [],
   "source": [
    "a=10\n",
    "a"
   ]
  },
  {
   "cell_type": "code",
   "execution_count": null,
   "metadata": {
    "colab": {},
    "colab_type": "code",
    "id": "xRfjH8fso1kl"
   },
   "outputs": [],
   "source": [
    "# Float\n",
    "pi = 3.141592653589793\n",
    "# print(pi)\n",
    "type(pi)"
   ]
  },
  {
   "cell_type": "code",
   "execution_count": null,
   "metadata": {
    "colab": {},
    "colab_type": "code",
    "id": "AGo_Ekaeo1kp"
   },
   "outputs": [],
   "source": [
    "# + (Addition)\n",
    "x = a+b\n",
    "x\n",
    "print('a+b =',x)"
   ]
  },
  {
   "cell_type": "code",
   "execution_count": null,
   "metadata": {
    "colab": {},
    "colab_type": "code",
    "id": "bKeonnX3o1kt"
   },
   "outputs": [],
   "source": [
    "# - (Subtraction)\n",
    "print(a-b)"
   ]
  },
  {
   "cell_type": "code",
   "execution_count": null,
   "metadata": {
    "colab": {},
    "colab_type": "code",
    "id": "xzl43_nLo1kz"
   },
   "outputs": [],
   "source": [
    "# * (Multiplication)\n",
    "z = a*b\n",
    "print('a*b=', a*b)"
   ]
  },
  {
   "cell_type": "code",
   "execution_count": null,
   "metadata": {
    "colab": {},
    "colab_type": "code",
    "id": "dB_EPYCQo1k2"
   },
   "outputs": [],
   "source": [
    "# / (Division)\n",
    "div = a/b\n",
    "type(div)"
   ]
  },
  {
   "cell_type": "code",
   "execution_count": null,
   "metadata": {
    "colab": {},
    "colab_type": "code",
    "id": "ybHRcaPso1k5"
   },
   "outputs": [],
   "source": [
    "# % (Modulus) 餘數\n",
    "c = 11\n",
    "d = 3\n",
    "mod = c%d\n",
    "mod"
   ]
  },
  {
   "cell_type": "code",
   "execution_count": null,
   "metadata": {
    "colab": {},
    "colab_type": "code",
    "id": "lopSWfWso1k9"
   },
   "outputs": [],
   "source": [
    "# ** (Exponent)\n",
    "a=2\n",
    "b=9\n",
    "exp = a**b\n",
    "exp"
   ]
  },
  {
   "cell_type": "code",
   "execution_count": null,
   "metadata": {
    "colab": {},
    "colab_type": "code",
    "id": "MrpVH1mdo1lC"
   },
   "outputs": [],
   "source": [
    "sqrt = 144**0.5\n",
    "sqrt"
   ]
  },
  {
   "cell_type": "code",
   "execution_count": null,
   "metadata": {
    "colab": {},
    "colab_type": "code",
    "id": "noCQby9do1lF"
   },
   "outputs": [],
   "source": [
    "# // (Floor Division) 無條件捨棄小數點\n",
    "a = 314\n",
    "b = 25\n",
    "\n",
    "x = a/b\n",
    "y = a//b\n",
    "\n",
    "# print('x=',x,'; y=',y)\n",
    "type(y)"
   ]
  },
  {
   "cell_type": "markdown",
   "metadata": {
    "colab_type": "text",
    "id": "dD63dsTvo1lI"
   },
   "source": [
    "### Built-in Functions\n",
    "1. int\n",
    "1. float\n",
    "1. abs\n",
    "1. round"
   ]
  },
  {
   "cell_type": "code",
   "execution_count": null,
   "metadata": {
    "colab": {},
    "colab_type": "code",
    "id": "JqgJ_n85o1lJ"
   },
   "outputs": [],
   "source": [
    "# int\n",
    "pi = 3.141592653589793\n",
    "int(pi)"
   ]
  },
  {
   "cell_type": "code",
   "execution_count": null,
   "metadata": {
    "colab": {},
    "colab_type": "code",
    "id": "8c-uoBRro1lM"
   },
   "outputs": [],
   "source": [
    "# float\n",
    "float(pi)"
   ]
  },
  {
   "cell_type": "code",
   "execution_count": null,
   "metadata": {
    "colab": {},
    "colab_type": "code",
    "id": "gOEmsEYdo1lR"
   },
   "outputs": [],
   "source": [
    "# abs\n",
    "abs(-pi)"
   ]
  },
  {
   "cell_type": "code",
   "execution_count": null,
   "metadata": {
    "colab": {},
    "colab_type": "code",
    "id": "xc_fV44qo1lW"
   },
   "outputs": [],
   "source": [
    "# round\n",
    "round(pi,5)"
   ]
  },
  {
   "cell_type": "markdown",
   "metadata": {
    "colab_type": "text",
    "id": "wb7KWwAro1la"
   },
   "source": [
    "## 6.2. String"
   ]
  },
  {
   "cell_type": "code",
   "execution_count": null,
   "metadata": {
    "colab": {},
    "colab_type": "code",
    "id": "TMXsgWGSo1la"
   },
   "outputs": [],
   "source": [
    "str1 = 'Hello'\n",
    "str2 = 'World'"
   ]
  },
  {
   "cell_type": "code",
   "execution_count": null,
   "metadata": {
    "colab": {},
    "colab_type": "code",
    "id": "3JtNPRpPo1ld"
   },
   "outputs": [],
   "source": [
    "# + (Appends the second string to the first)\n",
    "str1 + ' ' + str2"
   ]
  },
  {
   "cell_type": "code",
   "execution_count": null,
   "metadata": {
    "colab": {},
    "colab_type": "code",
    "id": "ytgrcAklo1li"
   },
   "outputs": [],
   "source": [
    "# * (Concatenates multiple copies of the same string)\n",
    "a = 'Hello'\n",
    "a*3"
   ]
  },
  {
   "cell_type": "code",
   "execution_count": null,
   "metadata": {
    "colab": {},
    "colab_type": "code",
    "id": "9EQqvbkvo1lm"
   },
   "outputs": [],
   "source": [
    "# [] Returns the character at the given index(starting with zero)\n",
    "str1 = 'Hello'\n",
    "str1[0]"
   ]
  },
  {
   "cell_type": "code",
   "execution_count": null,
   "metadata": {
    "colab": {},
    "colab_type": "code",
    "id": "Ag3l3wuqo1lp"
   },
   "outputs": [],
   "source": [
    "test = str1 + str2\n",
    "print(test)\n",
    "test[0:5]  #include index=0; exclude index=5"
   ]
  },
  {
   "cell_type": "code",
   "execution_count": null,
   "metadata": {
    "colab": {},
    "colab_type": "code",
    "id": "VqXZe07No1ls"
   },
   "outputs": [],
   "source": [
    "test[6:]"
   ]
  },
  {
   "cell_type": "code",
   "execution_count": null,
   "metadata": {
    "colab": {},
    "colab_type": "code",
    "id": "WVLsxXvgo1lx"
   },
   "outputs": [],
   "source": [
    "# in (Returns true if a character exists in the given string - case sensitive)\n",
    "test = 'Hello Python'\n",
    "'y' in test"
   ]
  },
  {
   "cell_type": "code",
   "execution_count": null,
   "metadata": {
    "colab": {},
    "colab_type": "code",
    "id": "EbNkRDISo1l1"
   },
   "outputs": [],
   "source": [
    "'Y' in test"
   ]
  },
  {
   "cell_type": "code",
   "execution_count": null,
   "metadata": {
    "colab": {},
    "colab_type": "code",
    "id": "osmpccA1o1l6"
   },
   "outputs": [],
   "source": [
    "# not in (Returns true if a character does not exist in the given string)\n",
    "'on' not in test"
   ]
  },
  {
   "cell_type": "code",
   "execution_count": null,
   "metadata": {
    "colab": {},
    "colab_type": "code",
    "id": "0DqZHacUo1mB"
   },
   "outputs": [],
   "source": [
    "x = 3\n",
    "y = str(3)\n",
    "\n",
    "print( 'x type = ' + str(type(x)) )\n",
    "print( 'y type = ' + str(type(y)) )"
   ]
  },
  {
   "cell_type": "markdown",
   "metadata": {
    "colab_type": "text",
    "id": "76QZoaVxo1mF"
   },
   "source": [
    "## 6.3. List\n",
    "In Python, the list is a collection of items of different data types. It is an ordered sequence of items. A list object contains one or more items, not necessarily of the same type, which are separated by comma and enclosed in square brackets `[ ]`\n",
    "```python\n",
    "list = [value1, value2, value3,...valueN]\n",
    "```"
   ]
  },
  {
   "cell_type": "code",
   "execution_count": null,
   "metadata": {
    "colab": {},
    "colab_type": "code",
    "id": "VPjbAoCoo1mG"
   },
   "outputs": [],
   "source": [
    "staff = ['Annie','Brian','Clare','Diana']\n",
    "Age = [30, 28, 49, 80]\n",
    "mix = ['Elsa', 18, 'Elley', 15, ['prince']]"
   ]
  },
  {
   "cell_type": "code",
   "execution_count": null,
   "metadata": {
    "colab": {
     "base_uri": "https://localhost:8080/",
     "height": 35
    },
    "colab_type": "code",
    "executionInfo": {
     "elapsed": 893,
     "status": "ok",
     "timestamp": 1585038920654,
     "user": {
      "displayName": "ChingChing Lee",
      "photoUrl": "",
      "userId": "16449948928545344997"
     },
     "user_tz": -480
    },
    "id": "Xf_NLokIo1mM",
    "outputId": "0eb5ad05-648b-4297-e2fc-1e00cab09558"
   },
   "outputs": [
    {
     "name": "stdout",
     "output_type": "stream",
     "text": [
      "['Elsa', 18, 'Elley', 15, ['prince']]\n"
     ]
    }
   ],
   "source": [
    "print(mix)"
   ]
  },
  {
   "cell_type": "markdown",
   "metadata": {
    "colab_type": "text",
    "id": "AMqvJzjMo1mQ"
   },
   "source": [
    "#### index\n",
    "> Each individual element in the sequence is accessed by the index in the square brackets `[ ]`. An index starts with `zero`, as shown below."
   ]
  },
  {
   "cell_type": "code",
   "execution_count": null,
   "metadata": {
    "colab": {},
    "colab_type": "code",
    "id": "nVqFOS0co1mR"
   },
   "outputs": [],
   "source": [
    "staff[1]"
   ]
  },
  {
   "cell_type": "markdown",
   "metadata": {
    "colab_type": "text",
    "id": "eZq-RGkHo1mX"
   },
   "source": [
    "#### MODIFY\n",
    "> The list object is mutable. It is possible to modify its contents, which will modify the value in the memory."
   ]
  },
  {
   "cell_type": "code",
   "execution_count": null,
   "metadata": {
    "colab": {},
    "colab_type": "code",
    "id": "qZgH_KJyo1mZ"
   },
   "outputs": [],
   "source": [
    "vegetable = ['potato','corn','tomato','eggplant','broccoli', 'carret','beans']\n",
    "vegetable[1] = 'apple'\n",
    "vegetable"
   ]
  },
  {
   "cell_type": "markdown",
   "metadata": {
    "colab_type": "text",
    "id": "Xlb33Y9Go1mc"
   },
   "source": [
    "#### `del` \n",
    ">Use the del keyword to delete the list object.\n",
    "```python\n",
    "del list[index]\n",
    "```"
   ]
  },
  {
   "cell_type": "code",
   "execution_count": null,
   "metadata": {
    "colab": {},
    "colab_type": "code",
    "id": "K38tGHR_o1md"
   },
   "outputs": [],
   "source": [
    "# delete by index value\n",
    "del vegetable[3]\n",
    "vegetable"
   ]
  },
  {
   "cell_type": "code",
   "execution_count": null,
   "metadata": {
    "colab": {},
    "colab_type": "code",
    "id": "1I5QUiX_o1mi"
   },
   "outputs": [],
   "source": [
    "# delete by index range\n",
    "del vegetable[0:1]\n",
    "vegetable"
   ]
  },
  {
   "cell_type": "markdown",
   "metadata": {
    "colab_type": "text",
    "id": "hg8cGHJxo1mm"
   },
   "source": [
    "#### `.remove( )`\n",
    "> Remove specific item from list\n",
    "```\n",
    "list.remove(item)\n",
    "```"
   ]
  },
  {
   "cell_type": "code",
   "execution_count": null,
   "metadata": {
    "colab": {},
    "colab_type": "code",
    "id": "DyxQ4gi8o1mq"
   },
   "outputs": [],
   "source": [
    "vegetable = ['potato','corn','tomato','eggplant','broccoli', 'carret','beans']\n",
    "# vegetable.remove('eggplant')\n",
    "# vegetable.remove([vegetable[0])\n",
    "# vegetable\n",
    "x = vegetable[0:2]\n",
    "x\n",
    "vegetable.remove(x)"
   ]
  },
  {
   "cell_type": "markdown",
   "metadata": {
    "colab_type": "text",
    "id": "IZLNHbn0o1m5"
   },
   "source": [
    "#### `len( )`\n",
    "> The `len( )` method returns the number of elements in the list/tuple."
   ]
  },
  {
   "cell_type": "code",
   "execution_count": null,
   "metadata": {
    "colab": {},
    "colab_type": "code",
    "id": "ScL2c06No1m5"
   },
   "outputs": [],
   "source": [
    "vegetable = ['potato','corn','tomato','eggplant','broccoli', 'carret','beans']\n",
    "len(vegetable)"
   ]
  },
  {
   "cell_type": "markdown",
   "metadata": {
    "colab_type": "text",
    "id": "nNt-pAzZo1m7"
   },
   "source": [
    "#### `append( )`\n",
    "> Adds an item at the end of the list."
   ]
  },
  {
   "cell_type": "code",
   "execution_count": null,
   "metadata": {
    "colab": {},
    "colab_type": "code",
    "id": "kD71JtrXo1m8"
   },
   "outputs": [],
   "source": [
    "vegetable.append('lettuce')\n",
    "vegetable"
   ]
  },
  {
   "cell_type": "markdown",
   "metadata": {
    "colab_type": "text",
    "id": "95lCrJW_o1m-"
   },
   "source": [
    "#### `insert( )`\n",
    "> Inserts an item in a list at the specified index."
   ]
  },
  {
   "cell_type": "code",
   "execution_count": null,
   "metadata": {
    "colab": {},
    "colab_type": "code",
    "id": "oxLgIG-co1m_"
   },
   "outputs": [],
   "source": [
    "vegetable.insert(2,'onion')\n",
    "vegetable"
   ]
  },
  {
   "cell_type": "markdown",
   "metadata": {
    "colab_type": "text",
    "id": "gMS6sXdNo1nE"
   },
   "source": [
    "#### .sort()\n",
    "- `sort( )` Ascending\n",
    "- `sort(reverse=True)` Descending\n",
    "> Rearranges the items in the list according to the alphabetical order. Default is the ascending order."
   ]
  },
  {
   "cell_type": "code",
   "execution_count": null,
   "metadata": {
    "colab": {},
    "colab_type": "code",
    "id": "3rFbeTgno1nF"
   },
   "outputs": [],
   "source": [
    "vegetable.sort()\n",
    "vegetable"
   ]
  },
  {
   "cell_type": "code",
   "execution_count": null,
   "metadata": {
    "colab": {},
    "colab_type": "code",
    "id": "gO90Tx2No1nN"
   },
   "outputs": [],
   "source": [
    "vegetable.sort(reverse=True)\n",
    "vegetable"
   ]
  },
  {
   "cell_type": "code",
   "execution_count": null,
   "metadata": {
    "colab": {},
    "colab_type": "code",
    "id": "X1wpN6_Co1nV"
   },
   "outputs": [],
   "source": [
    "numbers = [1, 240, 309, 888, -21, 402, 2046]\n",
    "numbers.sort()\n",
    "numbers"
   ]
  },
  {
   "cell_type": "code",
   "execution_count": null,
   "metadata": {
    "colab": {},
    "colab_type": "code",
    "id": "XUy7nVS5o1na"
   },
   "outputs": [],
   "source": [
    "numbers.sort(reverse=False)\n",
    "numbers"
   ]
  },
  {
   "cell_type": "markdown",
   "metadata": {
    "colab_type": "text",
    "id": "EFEL5TCHo1nd"
   },
   "source": [
    "## 6.4 Tuple\n",
    "\n",
    "Tuple is a collection of items of any Python data type, same as the list type. Unlike the list, tuple is **immutable** . \n",
    "\n",
    "The tuple object contains one or more items, of the same or different types, separated by comma and enclosed in parentheses `( )`.\n",
    "```python\n",
    "tuple = (value1, value2, value3,...valueN)\n",
    "```"
   ]
  },
  {
   "cell_type": "code",
   "execution_count": null,
   "metadata": {
    "colab": {},
    "colab_type": "code",
    "id": "HFKWtJjio1ne"
   },
   "outputs": [],
   "source": [
    "vegetable = ('potato','corn','tomato','eggplant','broccoli', 'carret','beans')\n",
    "vegetable[1] = ('apple')"
   ]
  },
  {
   "cell_type": "code",
   "execution_count": null,
   "metadata": {
    "colab": {},
    "colab_type": "code",
    "id": "Ci0srMwJo1nm"
   },
   "outputs": [],
   "source": [
    "# You can use backward indexing also.\n",
    "vegetable[-1]"
   ]
  },
  {
   "cell_type": "code",
   "execution_count": null,
   "metadata": {
    "colab": {},
    "colab_type": "code",
    "id": "x-NgSOa0o1nr"
   },
   "outputs": [],
   "source": [
    "vegetable[3:-1]"
   ]
  },
  {
   "cell_type": "markdown",
   "metadata": {
    "colab_type": "text",
    "id": "vrBNjZoSr6Oq"
   },
   "source": [
    "#### `.sort()`"
   ]
  },
  {
   "cell_type": "code",
   "execution_count": null,
   "metadata": {
    "colab": {},
    "colab_type": "code",
    "id": "GHtE-H0lo1nx"
   },
   "outputs": [],
   "source": [
    "vegetable.sort()"
   ]
  },
  {
   "cell_type": "markdown",
   "metadata": {
    "colab_type": "text",
    "id": "XdP8E34ir9mF"
   },
   "source": [
    "#### max()"
   ]
  },
  {
   "cell_type": "code",
   "execution_count": null,
   "metadata": {
    "colab": {},
    "colab_type": "code",
    "id": "QTk-M6i4o1nz"
   },
   "outputs": [],
   "source": [
    "max(vegetable)"
   ]
  },
  {
   "cell_type": "markdown",
   "metadata": {
    "colab_type": "text",
    "id": "LkZ-Rf49o1n2"
   },
   "source": [
    "## 6.5 Dictionary\n",
    "Like the list and the tuple, dictionary is also a collection type. However, it is not an ordered sequence, and it contains key-value pairs. One or more key:value pairs separated by commas`:` are put inside curly brackets`{ }` to form a dictionary object.\n",
    "```python\n",
    "dict = { key1:value1, key2:value2,...keyN:valueN }\n",
    "```"
   ]
  },
  {
   "cell_type": "code",
   "execution_count": null,
   "metadata": {
    "colab": {},
    "colab_type": "code",
    "id": "lAvSV9OHo1oA"
   },
   "outputs": [],
   "source": [
    "capital = {\"UK\":\"London\", \"France\":\"Paris\", \"Taiwan\":\"Taipei\", 'China':'Beijing'}"
   ]
  },
  {
   "cell_type": "code",
   "execution_count": null,
   "metadata": {
    "colab": {},
    "colab_type": "code",
    "id": "M2h9b7rPo1oD"
   },
   "outputs": [],
   "source": [
    "Fruit = {\"item\":[\"Mango\",\"Banana\"], \"Color\":[\"Blue\", \"Red\"]}"
   ]
  },
  {
   "cell_type": "markdown",
   "metadata": {
    "colab_type": "text",
    "id": "MUO4_eDdo1oI"
   },
   "source": [
    "### Accessing a Dictionary\n",
    "Dictionary is not an ordered collection, so a value cannot be accessed using an index in square brackets. A value in a dictionary can be fetched using the associated key, using the `get( )` method. Specify the key in the get() method to retrieve its value."
   ]
  },
  {
   "cell_type": "markdown",
   "metadata": {
    "colab_type": "text",
    "id": "aOKkF-ZmqWjr"
   },
   "source": [
    "#### `.get`"
   ]
  },
  {
   "cell_type": "code",
   "execution_count": null,
   "metadata": {
    "colab": {},
    "colab_type": "code",
    "id": "DF-KWW0Io1oK"
   },
   "outputs": [],
   "source": [
    "capital.get('Taiwan')"
   ]
  },
  {
   "cell_type": "code",
   "execution_count": null,
   "metadata": {
    "colab": {},
    "colab_type": "code",
    "id": "SJK7KOn2o1oN"
   },
   "outputs": [],
   "source": [
    "Fruit.get('Color')"
   ]
  },
  {
   "cell_type": "markdown",
   "metadata": {
    "colab_type": "text",
    "id": "GYM74X8FsQcK"
   },
   "source": [
    "#### .items()\n",
    "Retrieve both key and value"
   ]
  },
  {
   "cell_type": "code",
   "execution_count": null,
   "metadata": {
    "colab": {
     "base_uri": "https://localhost:8080/",
     "height": 35
    },
    "colab_type": "code",
    "executionInfo": {
     "elapsed": 738,
     "status": "ok",
     "timestamp": 1585039112713,
     "user": {
      "displayName": "ChingChing Lee",
      "photoUrl": "",
      "userId": "16449948928545344997"
     },
     "user_tz": -480
    },
    "id": "4dswDjXosTEA",
    "outputId": "b515898c-2a79-4538-883c-db3039f977aa"
   },
   "outputs": [
    {
     "data": {
      "text/plain": [
       "dict_items([('UK', 'London'), ('France', 'Paris'), ('Taiwan', 'Taipei'), ('China', 'Beijing')])"
      ]
     },
     "execution_count": 5,
     "metadata": {
      "tags": []
     },
     "output_type": "execute_result"
    }
   ],
   "source": [
    "capital.items()"
   ]
  },
  {
   "cell_type": "markdown",
   "metadata": {
    "colab_type": "text",
    "id": "mbfoGqO5o1oP"
   },
   "source": [
    "### View Keys and Values\n",
    "The `keys()` and `values()` methods of Python dictionary class return a view object consisting of keys and values respectively, used in the dictionary."
   ]
  },
  {
   "cell_type": "markdown",
   "metadata": {
    "colab_type": "text",
    "id": "0FSsiDSqqbla"
   },
   "source": [
    "#### `.keys()`"
   ]
  },
  {
   "cell_type": "code",
   "execution_count": null,
   "metadata": {
    "colab": {},
    "colab_type": "code",
    "id": "S5evq69to1oP"
   },
   "outputs": [],
   "source": [
    "capital.keys()"
   ]
  },
  {
   "cell_type": "markdown",
   "metadata": {
    "colab_type": "text",
    "id": "s9WjLtZDqhFO"
   },
   "source": [
    "#### `.values()`"
   ]
  },
  {
   "cell_type": "code",
   "execution_count": null,
   "metadata": {
    "colab": {},
    "colab_type": "code",
    "id": "Us2fNjjbo1oS"
   },
   "outputs": [],
   "source": [
    "capital.values()"
   ]
  },
  {
   "cell_type": "markdown",
   "metadata": {
    "colab_type": "text",
    "id": "olaMIWrbo1oU"
   },
   "source": [
    "- `len( )`\n",
    "Returns the number of key:value pairs in the dictionary."
   ]
  },
  {
   "cell_type": "code",
   "execution_count": null,
   "metadata": {
    "colab": {},
    "colab_type": "code",
    "id": "_KF4el4ro1oV",
    "outputId": "89549944-80dc-4403-eaaa-13f7590d827c"
   },
   "outputs": [
    {
     "data": {
      "text/plain": [
       "4"
      ]
     },
     "execution_count": 1,
     "metadata": {
      "tags": []
     },
     "output_type": "execute_result"
    }
   ],
   "source": [
    "capital = {\"UK\":\"London\", \"France\":\"Paris\", \"Taiwan\":\"Taipei\", 'Australia':'Melbourne'}\n",
    "len(capital)"
   ]
  },
  {
   "cell_type": "markdown",
   "metadata": {
    "colab_type": "text",
    "id": "tHguRsLqo1oX"
   },
   "source": [
    "#### `update()`\n",
    "> Adds key-value pairs from the second dictionary object to the first. If the second dictionary contains a key already used in first dictionary object, its value is updated."
   ]
  },
  {
   "cell_type": "code",
   "execution_count": null,
   "metadata": {
    "colab": {},
    "colab_type": "code",
    "id": "6Lwl8AeLo1oY"
   },
   "outputs": [],
   "source": [
    "add = {'Germany':'Berlin', 'Netherland':'Amsterdam', 'Australia':['Canberra','Melbourne']}"
   ]
  },
  {
   "cell_type": "code",
   "execution_count": null,
   "metadata": {
    "colab": {},
    "colab_type": "code",
    "id": "rfrfkotSo1oc"
   },
   "outputs": [],
   "source": [
    "capital.update(add)\n",
    "capital"
   ]
  },
  {
   "cell_type": "markdown",
   "metadata": {
    "colab_type": "text",
    "id": "q2fn5zxho1oe"
   },
   "source": [
    "## 7 Loops in python\n",
    "Reference https://www.w3schools.com/python/python_for_loops.asp\n",
    "\n",
    "### 1. For Loop\n",
    "A for loop is used for iterating over a sequence (that is either a list, a tuple, a dictionary, a set, or a string).\n",
    "\n",
    "```python\n",
    "for i in objective:\n",
    "    action\n",
    "```\n",
    "\n",
    "Elements\n",
    "- for , in \n",
    "- ：\n",
    "- indented block"
   ]
  },
  {
   "cell_type": "code",
   "execution_count": null,
   "metadata": {
    "colab": {},
    "colab_type": "code",
    "id": "FVlnsp4wo1oi"
   },
   "outputs": [],
   "source": [
    "# For Loops\n",
    "vegetable = ('potato','corn','tomato','eggplant','broccoli', 'carret','beans')\n",
    "\n",
    "for item in vegetable:\n",
    "    print(item)"
   ]
  },
  {
   "cell_type": "code",
   "execution_count": null,
   "metadata": {
    "colab": {},
    "colab_type": "code",
    "id": "SDPz8TGxo1ol"
   },
   "outputs": [],
   "source": [
    "# Looping Through a String\n",
    "for character in 'vegetable':\n",
    "    print(character)"
   ]
  },
  {
   "cell_type": "markdown",
   "metadata": {
    "colab_type": "text",
    "id": "67JXQHgio1on"
   },
   "source": [
    "### The break Statement\n",
    "With the break statement we can stop the loop before it has looped through all the items:"
   ]
  },
  {
   "cell_type": "code",
   "execution_count": null,
   "metadata": {
    "colab": {},
    "colab_type": "code",
    "id": "HGEgofxSo1oo"
   },
   "outputs": [],
   "source": [
    "# Exit the loop when x is \"banana\":\n",
    "fruits = [\"apple\", \"banana\", \"cherry\"]\n",
    "\n",
    "for x in fruits:\n",
    "  print(x)\n",
    "  if x == \"banana\":\n",
    "    break"
   ]
  },
  {
   "cell_type": "code",
   "execution_count": null,
   "metadata": {
    "colab": {},
    "colab_type": "code",
    "id": "2xh3h_cPo1os"
   },
   "outputs": [],
   "source": [
    "# Exit the loop when x is \"banana\", but this time the break comes before the print:\n",
    "fruits = [\"apple\", \"banana\", \"cherry\"]\n",
    "\n",
    "for x in fruits:\n",
    "  if x == \"banana\":\n",
    "    break\n",
    "  print(x)"
   ]
  },
  {
   "cell_type": "markdown",
   "metadata": {
    "colab_type": "text",
    "id": "3_Gn2Codo1ow"
   },
   "source": [
    "### The continue Statement\n",
    "With the continue statement we can stop the current iteration of the loop, and continue with the next:"
   ]
  },
  {
   "cell_type": "code",
   "execution_count": null,
   "metadata": {
    "colab": {},
    "colab_type": "code",
    "id": "vUWqXB3_o1ox"
   },
   "outputs": [],
   "source": [
    "fruits = [\"apple\", \"banana\", \"cherry\"]\n",
    "for x in fruits:\n",
    "  if x == \"banana\":\n",
    "    continue\n",
    "  print(x)"
   ]
  },
  {
   "cell_type": "markdown",
   "metadata": {
    "colab_type": "text",
    "id": "lOg7GgXqo1oz"
   },
   "source": [
    "### The range( ) Function\n",
    "To loop through a set of code a specified **number of times** , we can use the `range()` function,\n",
    "The `range()` function returns a sequence of numbers, starting from `0` by default, and increments by 1 (by default), and ends at a specified number."
   ]
  },
  {
   "cell_type": "code",
   "execution_count": null,
   "metadata": {
    "colab": {},
    "colab_type": "code",
    "id": "RJLG8GTto1oz"
   },
   "outputs": [],
   "source": [
    "# Note that range(6) is not the values of 0 to 6, but the values 0 to 5.\n",
    "for x in range(6):\n",
    "  print(x)"
   ]
  },
  {
   "cell_type": "code",
   "execution_count": null,
   "metadata": {
    "colab": {},
    "colab_type": "code",
    "id": "dSIlKNuHo1o3"
   },
   "outputs": [],
   "source": [
    "for x in range(2, 6):\n",
    "  print(x)"
   ]
  },
  {
   "cell_type": "markdown",
   "metadata": {
    "colab_type": "text",
    "id": "E8y6ijupo1o-"
   },
   "source": [
    "The `range()` function defaults to increment the sequence by 1, however it is possible to **specify the increment value** by adding a third parameter: range(2, 30, 3):"
   ]
  },
  {
   "cell_type": "code",
   "execution_count": null,
   "metadata": {
    "colab": {},
    "colab_type": "code",
    "id": "6UhzRE-co1o_"
   },
   "outputs": [],
   "source": [
    "for x in range(2, 30, 3):\n",
    "  print(x)"
   ]
  },
  {
   "cell_type": "markdown",
   "metadata": {
    "colab_type": "text",
    "id": "1xk5mN_Ao1pB"
   },
   "source": [
    "### Nested Loops\n",
    "A nested loop is a loop inside a loop.\n",
    "\n",
    "The `inner loop` will be executed one time for each iteration of the `outer loop`:"
   ]
  },
  {
   "cell_type": "code",
   "execution_count": null,
   "metadata": {
    "colab": {},
    "colab_type": "code",
    "id": "d8uexJYZo1pC"
   },
   "outputs": [],
   "source": [
    "color = [\"red\", \"yello\", \"purple\"]\n",
    "fruits = [\"apple\", \"banana\", \"cherry\"]\n",
    "\n",
    "for x in color:\n",
    "  for y in fruits:\n",
    "    print(x, y)"
   ]
  },
  {
   "cell_type": "markdown",
   "metadata": {
    "colab_type": "text",
    "id": "qRcXc4Z8o1pE"
   },
   "source": [
    "## Combine add items and loops"
   ]
  },
  {
   "cell_type": "code",
   "execution_count": null,
   "metadata": {
    "colab": {},
    "colab_type": "code",
    "id": "jKTObMLDo1pE"
   },
   "outputs": [],
   "source": [
    "height = [158, 150, 178, 153, 168, 190, 143, 166, 173, 155, 158, 179, 183, 187]\n",
    "\n",
    "club_183 = []\n",
    "\n",
    "for i in height:\n",
    "    if i >= 183:\n",
    "        club_183.append(i)\n",
    "\n",
    "print(club_183)"
   ]
  },
  {
   "cell_type": "markdown",
   "metadata": {
    "colab_type": "text",
    "id": "0hOR4IpHo1pJ"
   },
   "source": [
    "## 8. If ... Else\n",
    "\n",
    "### Python Conditions and If statements\n",
    "Python supports the usual logical conditions from mathematics:\n",
    "\n",
    "- Equals: `a == b`\n",
    "- Not Equals: `a != b`\n",
    "- Less than: `a < b`\n",
    "- Less than or equal to: `a <= b`\n",
    "- Greater than: `a > b`\n",
    "- Greater than or equal to: `a >= b`\n",
    "\n",
    "These conditions can be used in several ways, most commonly in \"if statements\" and loops.\n",
    "An \"if statement\" is written by using the if keyword."
   ]
  },
  {
   "cell_type": "code",
   "execution_count": null,
   "metadata": {
    "colab": {},
    "colab_type": "code",
    "id": "jbnucdoko1pK"
   },
   "outputs": [],
   "source": [
    "a = 33\n",
    "b = 200\n",
    "if b > a:\n",
    "  print(\"b is greater than a\")"
   ]
  },
  {
   "cell_type": "markdown",
   "metadata": {
    "colab_type": "text",
    "id": "dsidnFCMo1pM"
   },
   "source": [
    "### Elif\n",
    "The `elif` (else if )keyword is pythons way of saying \"if the previous conditions were not true, then try this condition\"."
   ]
  },
  {
   "cell_type": "code",
   "execution_count": null,
   "metadata": {
    "colab": {},
    "colab_type": "code",
    "id": "eqlP0V40o1pO"
   },
   "outputs": [],
   "source": [
    "a = 33\n",
    "b = 33\n",
    "if b > a:\n",
    "  print(\"b is greater than a\")\n",
    "elif a == b:\n",
    "  print(\"a and b are equal\")"
   ]
  },
  {
   "cell_type": "code",
   "execution_count": null,
   "metadata": {
    "colab": {},
    "colab_type": "code",
    "id": "xz84UoNvo1pR"
   },
   "outputs": [],
   "source": [
    "# Not always need to use elif\n",
    "a = 33\n",
    "b = 33\n",
    "if b > a:\n",
    "  print(\"b is greater than a\")\n",
    "print(\"a and b are equal\")"
   ]
  },
  {
   "cell_type": "markdown",
   "metadata": {
    "colab_type": "text",
    "id": "TutlSZeno1pU"
   },
   "source": [
    "### Else\n",
    "The else keyword catches anything which isn't caught by the preceding conditions."
   ]
  },
  {
   "cell_type": "code",
   "execution_count": null,
   "metadata": {
    "colab": {},
    "colab_type": "code",
    "id": "gP2vMtxgo1pU"
   },
   "outputs": [],
   "source": [
    "a = 200\n",
    "b = 33\n",
    "if b > a:\n",
    "  print(\"b is greater than a\")\n",
    "elif a == b:\n",
    "  print(\"a and b are equal\")\n",
    "else:\n",
    "  print(\"a is greater than b\")"
   ]
  },
  {
   "cell_type": "markdown",
   "metadata": {
    "colab_type": "text",
    "id": "lgfdD_xIo1pX"
   },
   "source": [
    "### And\n",
    "The and keyword is a logical operator, and is used to combine conditional statements:"
   ]
  },
  {
   "cell_type": "code",
   "execution_count": null,
   "metadata": {
    "colab": {},
    "colab_type": "code",
    "id": "Oc1-XB2Ao1pY"
   },
   "outputs": [],
   "source": [
    "a = 200\n",
    "b = 33\n",
    "c = 500\n",
    "if a > b and c > a:\n",
    "  print(\"Both conditions are True\")"
   ]
  },
  {
   "cell_type": "markdown",
   "metadata": {
    "colab_type": "text",
    "id": "0TW_85IOo1pZ"
   },
   "source": [
    "### Or\n",
    "The or keyword is a logical operator, and is used to combine conditional statements:"
   ]
  },
  {
   "cell_type": "code",
   "execution_count": null,
   "metadata": {
    "colab": {},
    "colab_type": "code",
    "id": "h-r-W9G6o1pd"
   },
   "outputs": [],
   "source": [
    "a = 200\n",
    "b = 33\n",
    "c = 500\n",
    "if a > b or a > c:\n",
    "  print(\"At least one of the conditions is True\")"
   ]
  }
 ],
 "metadata": {
  "colab": {
   "collapsed_sections": [
    "TutlSZeno1pU",
    "0TW_85IOo1pZ"
   ],
   "name": "1. Before get started.ipynb",
   "provenance": [
    {
     "file_id": "1fUUNGmUjnrDy1IVAFla8bqHol30l9XeE",
     "timestamp": 1585038686275
    }
   ],
   "toc_visible": true
  },
  "kernelspec": {
   "display_name": "Python 3",
   "language": "python",
   "name": "python3"
  },
  "language_info": {
   "codemirror_mode": {
    "name": "ipython",
    "version": 3
   },
   "file_extension": ".py",
   "mimetype": "text/x-python",
   "name": "python",
   "nbconvert_exporter": "python",
   "pygments_lexer": "ipython3",
   "version": "3.8.8"
  }
 },
 "nbformat": 4,
 "nbformat_minor": 1
}
