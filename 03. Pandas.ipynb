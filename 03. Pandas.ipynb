{
 "cells": [
  {
   "cell_type": "markdown",
   "metadata": {
    "colab_type": "text",
    "id": "i9maVvfjX32R"
   },
   "source": [
    "\n",
    "# Pandas\n",
    "Pandas dataframe is two-dimensional size-mutable, potentially heterogeneous tabular data structure with labeled axes (rows and columns)\n",
    "\n",
    "Document https://pandas.pydata.org/pandas-docs/version/0.23.4/api.html#dataframe\n",
    "\n",
    "<img src=\"https://media.geeksforgeeks.org/wp-content/uploads/finallpandas.png\" alt=\"drawing\" width=\"600\"/>"
   ]
  },
  {
   "cell_type": "markdown",
   "metadata": {
    "colab_type": "text",
    "id": "BbaG7mhzYkUi"
   },
   "source": [
    "# Getting and Knowing your Data\n",
    "\n",
    "|SQL Like || Python pandas| |Purpose|\n",
    "|:--|:--|:--|:--|:--|\n",
    "|SELECT * FROM || pd.read_csv(path) |\n",
    "| JOIN || merge |\n",
    "|WHERE  || filtering || Extracting rows |\n",
    "|  || .loc[ ] |\n",
    "|  || .iloc[ ] |\n",
    "|ORDER BY || sorting|\n",
    "|GROUP BY  || grouping | \n",
    "| ||delete||\n",
    "| ||indexing||\n",
    "|COUNT ||stats||\n",
    "\n",
    "Reference\n",
    "- https://github.com/guipsamora/pandas_exercises"
   ]
  },
  {
   "cell_type": "markdown",
   "metadata": {
    "colab_type": "text",
    "id": "IJmEG_VIY3Td"
   },
   "source": [
    "## Step 1. Import the necessary libraries\n",
    "```python\n",
    "import [library]\n",
    "\n",
    "import [library] as [new_name]\n",
    "```\n",
    "\n",
    "Reference\n",
    "- https://medium.com/pyladies-taiwan/python-%E7%9A%84-import-%E9%99%B7%E9%98%B1-3538e74f57e3"
   ]
  },
  {
   "cell_type": "code",
   "execution_count": 1,
   "metadata": {
    "colab": {},
    "colab_type": "code",
    "id": "ILEzauo-ZaH6"
   },
   "outputs": [],
   "source": [
    "import pandas as pd"
   ]
  },
  {
   "cell_type": "markdown",
   "metadata": {
    "colab_type": "text",
    "id": "pPY4kJ-BY8bG"
   },
   "source": [
    "##Step 2.1. Import the dataset"
   ]
  },
  {
   "cell_type": "markdown",
   "metadata": {
    "colab_type": "text",
    "id": "w7BUJc6xZTLl"
   },
   "source": [
    "### 1) From local csv file\n",
    "```python\n",
    "path = './dataset_file.csv'  # ./ (relative to current working directory root)\n",
    "pd.read_csv( path, sep, index_col, usecols )\n",
    "```\n",
    "- `sep` : Separator. Default `‘,’`\n",
    "- `index_col` : Index Column(索引). Column to use as the row labels of the DataFrame . Default `None`\n",
    "- `usecols` : Return a subset of the columns be used. \n",
    "\n",
    "Reference\n",
    "- https://pandas.pydata.org/pandas-docs/version/0.23.4/generated/pandas.read_csv.html#pandas.read_csv\n",
    "\n"
   ]
  },
  {
   "cell_type": "code",
   "execution_count": 2,
   "metadata": {
    "colab": {
     "base_uri": "https://localhost:8080/",
     "height": 407
    },
    "colab_type": "code",
    "executionInfo": {
     "elapsed": 3741,
     "status": "ok",
     "timestamp": 1587456005971,
     "user": {
      "displayName": "ChingChing Lee",
      "photoUrl": "",
      "userId": "16449948928545344997"
     },
     "user_tz": -480
    },
    "id": "T-XbVkKiZpcc",
    "outputId": "42bf5674-df81-4524-a0f0-a21f9076cd66"
   },
   "outputs": [
    {
     "data": {
      "text/html": [
       "<div>\n",
       "<style scoped>\n",
       "    .dataframe tbody tr th:only-of-type {\n",
       "        vertical-align: middle;\n",
       "    }\n",
       "\n",
       "    .dataframe tbody tr th {\n",
       "        vertical-align: top;\n",
       "    }\n",
       "\n",
       "    .dataframe thead th {\n",
       "        text-align: right;\n",
       "    }\n",
       "</style>\n",
       "<table border=\"1\" class=\"dataframe\">\n",
       "  <thead>\n",
       "    <tr style=\"text-align: right;\">\n",
       "      <th></th>\n",
       "      <th>Date</th>\n",
       "      <th>Open</th>\n",
       "      <th>High</th>\n",
       "      <th>Low</th>\n",
       "      <th>Close</th>\n",
       "      <th>Adj Close</th>\n",
       "      <th>Volume</th>\n",
       "    </tr>\n",
       "  </thead>\n",
       "  <tbody>\n",
       "    <tr>\n",
       "      <th>0</th>\n",
       "      <td>2018-01-02</td>\n",
       "      <td>231.5</td>\n",
       "      <td>232.5</td>\n",
       "      <td>231.0</td>\n",
       "      <td>232.5</td>\n",
       "      <td>213.912537</td>\n",
       "      <td>18055269</td>\n",
       "    </tr>\n",
       "    <tr>\n",
       "      <th>1</th>\n",
       "      <td>2018-01-03</td>\n",
       "      <td>236.0</td>\n",
       "      <td>238.0</td>\n",
       "      <td>235.5</td>\n",
       "      <td>237.0</td>\n",
       "      <td>218.052811</td>\n",
       "      <td>29308091</td>\n",
       "    </tr>\n",
       "    <tr>\n",
       "      <th>2</th>\n",
       "      <td>2018-01-04</td>\n",
       "      <td>240.0</td>\n",
       "      <td>240.0</td>\n",
       "      <td>236.5</td>\n",
       "      <td>239.5</td>\n",
       "      <td>220.352921</td>\n",
       "      <td>29096613</td>\n",
       "    </tr>\n",
       "    <tr>\n",
       "      <th>3</th>\n",
       "      <td>2018-01-05</td>\n",
       "      <td>240.0</td>\n",
       "      <td>240.0</td>\n",
       "      <td>238.0</td>\n",
       "      <td>240.0</td>\n",
       "      <td>220.812943</td>\n",
       "      <td>22438255</td>\n",
       "    </tr>\n",
       "    <tr>\n",
       "      <th>4</th>\n",
       "      <td>2018-01-08</td>\n",
       "      <td>242.0</td>\n",
       "      <td>242.5</td>\n",
       "      <td>240.5</td>\n",
       "      <td>242.0</td>\n",
       "      <td>222.653061</td>\n",
       "      <td>20233692</td>\n",
       "    </tr>\n",
       "    <tr>\n",
       "      <th>...</th>\n",
       "      <td>...</td>\n",
       "      <td>...</td>\n",
       "      <td>...</td>\n",
       "      <td>...</td>\n",
       "      <td>...</td>\n",
       "      <td>...</td>\n",
       "      <td>...</td>\n",
       "    </tr>\n",
       "    <tr>\n",
       "      <th>486</th>\n",
       "      <td>2020-01-02</td>\n",
       "      <td>332.5</td>\n",
       "      <td>339.0</td>\n",
       "      <td>332.5</td>\n",
       "      <td>339.0</td>\n",
       "      <td>339.000000</td>\n",
       "      <td>31754120</td>\n",
       "    </tr>\n",
       "    <tr>\n",
       "      <th>487</th>\n",
       "      <td>2020-01-03</td>\n",
       "      <td>344.0</td>\n",
       "      <td>345.0</td>\n",
       "      <td>335.5</td>\n",
       "      <td>339.5</td>\n",
       "      <td>339.500000</td>\n",
       "      <td>41811268</td>\n",
       "    </tr>\n",
       "    <tr>\n",
       "      <th>488</th>\n",
       "      <td>2020-01-06</td>\n",
       "      <td>333.0</td>\n",
       "      <td>334.5</td>\n",
       "      <td>332.0</td>\n",
       "      <td>332.0</td>\n",
       "      <td>332.000000</td>\n",
       "      <td>45343057</td>\n",
       "    </tr>\n",
       "    <tr>\n",
       "      <th>489</th>\n",
       "      <td>2020-01-07</td>\n",
       "      <td>332.5</td>\n",
       "      <td>333.0</td>\n",
       "      <td>326.5</td>\n",
       "      <td>329.5</td>\n",
       "      <td>329.500000</td>\n",
       "      <td>50879181</td>\n",
       "    </tr>\n",
       "    <tr>\n",
       "      <th>490</th>\n",
       "      <td>2020-01-08</td>\n",
       "      <td>325.0</td>\n",
       "      <td>333.0</td>\n",
       "      <td>325.0</td>\n",
       "      <td>329.5</td>\n",
       "      <td>329.500000</td>\n",
       "      <td>37567748</td>\n",
       "    </tr>\n",
       "  </tbody>\n",
       "</table>\n",
       "<p>491 rows × 7 columns</p>\n",
       "</div>"
      ],
      "text/plain": [
       "           Date   Open   High    Low  Close   Adj Close    Volume\n",
       "0    2018-01-02  231.5  232.5  231.0  232.5  213.912537  18055269\n",
       "1    2018-01-03  236.0  238.0  235.5  237.0  218.052811  29308091\n",
       "2    2018-01-04  240.0  240.0  236.5  239.5  220.352921  29096613\n",
       "3    2018-01-05  240.0  240.0  238.0  240.0  220.812943  22438255\n",
       "4    2018-01-08  242.0  242.5  240.5  242.0  222.653061  20233692\n",
       "..          ...    ...    ...    ...    ...         ...       ...\n",
       "486  2020-01-02  332.5  339.0  332.5  339.0  339.000000  31754120\n",
       "487  2020-01-03  344.0  345.0  335.5  339.5  339.500000  41811268\n",
       "488  2020-01-06  333.0  334.5  332.0  332.0  332.000000  45343057\n",
       "489  2020-01-07  332.5  333.0  326.5  329.5  329.500000  50879181\n",
       "490  2020-01-08  325.0  333.0  325.0  329.5  329.500000  37567748\n",
       "\n",
       "[491 rows x 7 columns]"
      ]
     },
     "execution_count": 2,
     "metadata": {},
     "output_type": "execute_result"
    }
   ],
   "source": [
    "# Import dataset from local file\n",
    "path = './res/stock_daily_price.csv'\n",
    "pd.read_csv(path)"
   ]
  },
  {
   "cell_type": "markdown",
   "metadata": {
    "colab_type": "text",
    "id": "LLejcJRWaQUb"
   },
   "source": [
    "### 2) From online source - url\n",
    "```python\n",
    "url = 'https://raw.githubusercontent.com/justmarkham/DAT8/master/data/u.user'\n",
    "df = pd.read_csv(url, sep='|', index_col='user_id')\n",
    "```"
   ]
  },
  {
   "cell_type": "code",
   "execution_count": 0,
   "metadata": {
    "colab": {},
    "colab_type": "code",
    "id": "t5r6p3hNavKm"
   },
   "outputs": [],
   "source": [
    "url = 'https://raw.githubusercontent.com/justmarkham/DAT8/master/data/u.user'\n",
    "pd.read_csv(url)"
   ]
  },
  {
   "cell_type": "code",
   "execution_count": 0,
   "metadata": {
    "colab": {},
    "colab_type": "code",
    "id": "hP0tJKAXayxQ"
   },
   "outputs": [],
   "source": [
    "pd.read_csv(url, sep='|', index_col='zip_code')"
   ]
  },
  {
   "cell_type": "markdown",
   "metadata": {
    "colab_type": "text",
    "id": "57BJxgLgbVzr"
   },
   "source": [
    "健保特約機構口罩剩餘數量明細清單\n",
    "- https://data.nhi.gov.tw/Datasets/DatasetResource.aspx?rId=A21030000I-D50001-001\n",
    "\n",
    "![test](https://drive.google.com/uc?id=1lsNqLfbo-UhQf66Hc7D4v06c0QM_Vz7M)\n",
    "\n"
   ]
  },
  {
   "cell_type": "code",
   "execution_count": 0,
   "metadata": {
    "colab": {},
    "colab_type": "code",
    "id": "VYkT7-B7deMb"
   },
   "outputs": [],
   "source": [
    "# Import dataset from online source - url\n",
    "path = 'http://data.nhi.gov.tw/Datasets/Download.ashx?rid=A21030000I-D50001-001&l=https://data.nhi.gov.tw/resource/mask/maskdata.csv'\n",
    "# path = 'https://drive.google.com/uc?id=1nIv2QwX84souLYwcR6GP45NbsAtPzAdC'\n",
    "pd.read_csv(path)"
   ]
  },
  {
   "cell_type": "markdown",
   "metadata": {
    "colab_type": "text",
    "id": "1h6jqHYRZJ80"
   },
   "source": [
    "### 3) Create a data frame from scratch\n",
    "- https://www.geeksforgeeks.org/different-ways-to-create-pandas-dataframe/\n",
    "\n",
    "```python\n",
    "pd.DataFrame(data, index, column)\n",
    "```"
   ]
  },
  {
   "cell_type": "markdown",
   "metadata": {
    "colab_type": "text",
    "id": "kttCQ47PQ_ba"
   },
   "source": [
    "#### Lists of lists"
   ]
  },
  {
   "cell_type": "code",
   "execution_count": 0,
   "metadata": {
    "colab": {},
    "colab_type": "code",
    "id": "yIyu1H2gUd92"
   },
   "outputs": [],
   "source": [
    " # initialize list of lists \n",
    "data = [['tom', 10], ['nick', 15], ['juli', (14)]] \n",
    "  \n",
    "# Create the pandas DataFrame \n",
    "pd.DataFrame(data, columns = ['Name', 'Age']) "
   ]
  },
  {
   "cell_type": "markdown",
   "metadata": {
    "colab_type": "text",
    "id": "g9PZPZ_OU28n"
   },
   "source": [
    "#### dict of narray/lists\n",
    "\n",
    "To create DataFrame from dict of narray/list, all the narray `must be of same length`. If index is passed then the length index should be equal to the length of arrays. If no index is passed, then by default, index will be range(n) where n is the array length."
   ]
  },
  {
   "cell_type": "code",
   "execution_count": 0,
   "metadata": {
    "colab": {},
    "colab_type": "code",
    "id": "CZnmkj7KZXKf"
   },
   "outputs": [],
   "source": [
    "# Create data from ditionary \n",
    "source = {'Merchant': ['001', '002', '003'], \n",
    "     'GMV': [12402, 42391, 8102], \n",
    "     'OrderCount': [30, 88, 235], \n",
    "     'Shoppers': [3, 4, 1]}\n",
    "\n",
    "pd.DataFrame(data=source)"
   ]
  },
  {
   "cell_type": "code",
   "execution_count": 0,
   "metadata": {
    "colab": {},
    "colab_type": "code",
    "id": "3o-NNKFhQS-H"
   },
   "outputs": [],
   "source": [
    "pd.DataFrame(source, columns = ['Merchant', 'OrderCount'])"
   ]
  },
  {
   "cell_type": "markdown",
   "metadata": {
    "colab_type": "text",
    "id": "-WVbJMwSV-2e"
   },
   "source": [
    "#### from list of dicts"
   ]
  },
  {
   "cell_type": "code",
   "execution_count": 0,
   "metadata": {
    "colab": {},
    "colab_type": "code",
    "id": "gnlXfPoVWOU7"
   },
   "outputs": [],
   "source": [
    "# Initialise data to lists. \n",
    "data = [{'a': 1, 'b': 2, 'c':3}, {'a':10, 'b': 20, 'c': 30}] \n",
    "  \n",
    "# Creates DataFrame. \n",
    "pd.DataFrame(data)"
   ]
  },
  {
   "cell_type": "markdown",
   "metadata": {
    "colab_type": "text",
    "id": "Suz5eMm8W3-J"
   },
   "source": [
    "if there is NULL value"
   ]
  },
  {
   "cell_type": "code",
   "execution_count": 0,
   "metadata": {
    "colab": {},
    "colab_type": "code",
    "id": "wOfJwZrPW7HD"
   },
   "outputs": [],
   "source": [
    "# Intitialise data of lists  \n",
    "data = [{'b': 2, 'c':3}, {'a': 10, 'b': 20, 'c': 30}] \n",
    "  \n",
    "# Creates padas DataFrame by passing  \n",
    "# Lists of dictionaries and row index. \n",
    "pd.DataFrame(data, index =['first', 'second']) "
   ]
  },
  {
   "cell_type": "markdown",
   "metadata": {
    "colab_type": "text",
    "id": "_pIt8bZvWEkR"
   },
   "source": [
    "#### Creates a indexes DataFrame using arrays"
   ]
  },
  {
   "cell_type": "code",
   "execution_count": 0,
   "metadata": {
    "colab": {},
    "colab_type": "code",
    "id": "A1sOnRJISEY2"
   },
   "outputs": [],
   "source": [
    "# initialise data of lists. \n",
    "data = {'Name':['Tom', 'Jack', 'nick', 'juli'], 'marks':[99, 98, 95, 90]} \n",
    "  \n",
    "# Creates pandas DataFrame. \n",
    "pd.DataFrame(data, index =['rank1', 'rank2', 'rank3', 'rank4']) \n"
   ]
  },
  {
   "cell_type": "markdown",
   "metadata": {
    "colab_type": "text",
    "id": "N3sxn0loaY9r"
   },
   "source": [
    "##Step 2.2. Save the dataset\n"
   ]
  },
  {
   "cell_type": "markdown",
   "metadata": {
    "colab_type": "text",
    "id": "nimCvHncap4Z"
   },
   "source": [
    "#### df.to_filetype\n",
    "```python\n",
    "df.to_filetype(filename)\n",
    "```"
   ]
  },
  {
   "cell_type": "markdown",
   "metadata": {
    "colab_type": "text",
    "id": "0synSK62eNhd"
   },
   "source": [
    "##Step 3. Assign it to a variable"
   ]
  },
  {
   "cell_type": "code",
   "execution_count": 0,
   "metadata": {
    "colab": {},
    "colab_type": "code",
    "id": "KXGhU1_EYxPf"
   },
   "outputs": [],
   "source": [
    "path = '/content/all_mixpanel.csv'\n",
    "df = pd.read_csv(path)\n",
    "df"
   ]
  },
  {
   "cell_type": "markdown",
   "metadata": {
    "colab_type": "text",
    "id": "Rt_cNEdDeTHn"
   },
   "source": [
    "##Step 4. Check dataset\n",
    "- `.head()` : Return the first N entries (default 5)\n",
    "- `.tail()` : Return the last N rows.\n",
    "- `.sample()` :Return a random sample of items from an axis of object."
   ]
  },
  {
   "cell_type": "markdown",
   "metadata": {
    "colab_type": "text",
    "id": "NRkPqom3inu9"
   },
   "source": [
    "### head( )"
   ]
  },
  {
   "cell_type": "code",
   "execution_count": 0,
   "metadata": {
    "colab": {},
    "colab_type": "code",
    "id": "9FdhQ7ZIaUId"
   },
   "outputs": [],
   "source": [
    "# Return the first n entries, default 5\n",
    "df.head(20)\n",
    "# df.head(15)"
   ]
  },
  {
   "cell_type": "markdown",
   "metadata": {
    "colab_type": "text",
    "id": "QQQ1G5oxiqDc"
   },
   "source": [
    "### tail( )"
   ]
  },
  {
   "cell_type": "code",
   "execution_count": 0,
   "metadata": {
    "colab": {},
    "colab_type": "code",
    "id": "M4TMEdoQekxP"
   },
   "outputs": [],
   "source": [
    "# Return first n entries, default 5\n",
    "df.tail(15)\n",
    "# df.tail(10)"
   ]
  },
  {
   "cell_type": "markdown",
   "metadata": {
    "colab_type": "text",
    "id": "iZA-8ztDiuIQ"
   },
   "source": [
    "### sample( )"
   ]
  },
  {
   "cell_type": "code",
   "execution_count": 0,
   "metadata": {
    "colab": {},
    "colab_type": "code",
    "id": "lV96wWrreq-d"
   },
   "outputs": [],
   "source": [
    "# Randomly Return n entries, default 1\n",
    "df.sample(5)"
   ]
  },
  {
   "cell_type": "markdown",
   "metadata": {
    "colab_type": "text",
    "id": "KziXES5yeTYF"
   },
   "source": [
    "##Step 5. What is the number of observations / columns in the dataset"
   ]
  },
  {
   "cell_type": "markdown",
   "metadata": {
    "colab_type": "text",
    "id": "BMR4w0HqjETK"
   },
   "source": [
    "### `.shape`"
   ]
  },
  {
   "cell_type": "code",
   "execution_count": 0,
   "metadata": {
    "colab": {},
    "colab_type": "code",
    "id": "MUnPwiMHemTu"
   },
   "outputs": [],
   "source": [
    "df.shape"
   ]
  },
  {
   "cell_type": "code",
   "execution_count": 0,
   "metadata": {
    "colab": {},
    "colab_type": "code",
    "id": "nLjiKKlrf6U4"
   },
   "outputs": [],
   "source": [
    "df.shape[0]"
   ]
  },
  {
   "cell_type": "code",
   "execution_count": 0,
   "metadata": {
    "colab": {},
    "colab_type": "code",
    "id": "LYOsbkVof8pz"
   },
   "outputs": [],
   "source": [
    "df.shape[1]"
   ]
  },
  {
   "cell_type": "markdown",
   "metadata": {
    "colab_type": "text",
    "id": "SRvbkHwme_Gj"
   },
   "source": [
    "## Step 6. Print the name of all the columns"
   ]
  },
  {
   "cell_type": "markdown",
   "metadata": {
    "colab_type": "text",
    "id": "dBetJ7qAjPQL"
   },
   "source": [
    "### `.columns`"
   ]
  },
  {
   "cell_type": "code",
   "execution_count": 0,
   "metadata": {
    "colab": {},
    "colab_type": "code",
    "id": "KiXhzriwgFP3"
   },
   "outputs": [],
   "source": [
    "df.columns"
   ]
  },
  {
   "cell_type": "markdown",
   "metadata": {
    "colab_type": "text",
    "id": "F8qJObWde--a"
   },
   "source": [
    "## Step 7. How is the dataset indexed?"
   ]
  },
  {
   "cell_type": "markdown",
   "metadata": {
    "colab_type": "text",
    "id": "IAedm8tOjTIa"
   },
   "source": [
    "### `.index`"
   ]
  },
  {
   "cell_type": "code",
   "execution_count": 0,
   "metadata": {
    "colab": {},
    "colab_type": "code",
    "id": "pdrW7DMVfrKv"
   },
   "outputs": [],
   "source": [
    "# \"the index\" (aka \"the labels\")\n",
    "df.index"
   ]
  },
  {
   "cell_type": "code",
   "execution_count": 0,
   "metadata": {
    "colab": {},
    "colab_type": "code",
    "id": "ebziPxZZtQ76"
   },
   "outputs": [],
   "source": [
    "mix_panel = pd.read_csv('/content/drive/My Drive/Colab Notebooks/res/all_mixpanel.csv', index_col='handle')\n",
    "mix_panel.head()\n",
    "df = mix_panel.copy()"
   ]
  },
  {
   "cell_type": "markdown",
   "metadata": {
    "colab_type": "text",
    "id": "QSROXrzEfK0R"
   },
   "source": [
    "##Step 8. What is the data type of each column?"
   ]
  },
  {
   "cell_type": "markdown",
   "metadata": {
    "colab_type": "text",
    "id": "mDMiun2qjz93"
   },
   "source": [
    "### `.dtypes`"
   ]
  },
  {
   "cell_type": "code",
   "execution_count": 0,
   "metadata": {
    "colab": {},
    "colab_type": "code",
    "id": "Pa-yqxPueorr"
   },
   "outputs": [],
   "source": [
    "df.dtypes"
   ]
  },
  {
   "cell_type": "code",
   "execution_count": 0,
   "metadata": {
    "colab": {},
    "colab_type": "code",
    "id": "FsX5c97e2ukT"
   },
   "outputs": [],
   "source": [
    "df"
   ]
  },
  {
   "cell_type": "markdown",
   "metadata": {
    "colab_type": "text",
    "id": "U-kA7FiSgTA6"
   },
   "source": [
    "## Step 9. Print a needed column\n"
   ]
  },
  {
   "cell_type": "markdown",
   "metadata": {
    "colab_type": "text",
    "id": "jJmSpI-ziBVM"
   },
   "source": [
    "### `.column`\n",
    "\n",
    "``` python\n",
    "df.column\n",
    "```\n",
    "\n",
    "or\n",
    "\n",
    "``` python\n",
    "df['column']\n",
    "```"
   ]
  },
  {
   "cell_type": "code",
   "execution_count": 0,
   "metadata": {
    "colab": {},
    "colab_type": "code",
    "id": "XtEUAXrrgZ5X"
   },
   "outputs": [],
   "source": [
    "df.path"
   ]
  },
  {
   "cell_type": "code",
   "execution_count": 0,
   "metadata": {
    "colab": {},
    "colab_type": "code",
    "id": "3Rpx390ZfhWb"
   },
   "outputs": [],
   "source": [
    "df[['path'],['handle']]"
   ]
  },
  {
   "cell_type": "markdown",
   "metadata": {
    "colab_type": "text",
    "id": "C4xS_suHg0_E"
   },
   "source": [
    "## Step 10. How many different elements are in this column?\n"
   ]
  },
  {
   "cell_type": "markdown",
   "metadata": {
    "colab_type": "text",
    "id": "0tc-2QJVh1b6"
   },
   "source": [
    "### nunique()"
   ]
  },
  {
   "cell_type": "code",
   "execution_count": 0,
   "metadata": {
    "colab": {},
    "colab_type": "code",
    "id": "LPx-Ze_5gfkX"
   },
   "outputs": [],
   "source": [
    "df.path.nunique()"
   ]
  },
  {
   "cell_type": "code",
   "execution_count": 0,
   "metadata": {
    "colab": {},
    "colab_type": "code",
    "id": "QVdfnKNUuXaS"
   },
   "outputs": [],
   "source": [
    "df['path'].nunique()"
   ]
  },
  {
   "cell_type": "markdown",
   "metadata": {
    "colab_type": "text",
    "id": "9NHL17brhiTS"
   },
   "source": [
    "### value_counts()\n",
    "by using `value_counts()` which returns the count of unique elements"
   ]
  },
  {
   "cell_type": "code",
   "execution_count": 0,
   "metadata": {
    "colab": {},
    "colab_type": "code",
    "id": "ovPgKCgohPXw"
   },
   "outputs": [],
   "source": [
    "df.path.value_counts()"
   ]
  },
  {
   "cell_type": "markdown",
   "metadata": {
    "colab_type": "text",
    "id": "Gz2Hk15NiQO8"
   },
   "source": [
    "### count()"
   ]
  },
  {
   "cell_type": "code",
   "execution_count": 0,
   "metadata": {
    "colab": {},
    "colab_type": "code",
    "id": "wzo2PNuAhMJC"
   },
   "outputs": [],
   "source": [
    "df.path.count()"
   ]
  },
  {
   "cell_type": "markdown",
   "metadata": {
    "colab_type": "text",
    "id": "f7RVEbfKiUJd"
   },
   "source": [
    "## Step 11. Summarize the DataFrame"
   ]
  },
  {
   "cell_type": "markdown",
   "metadata": {
    "colab_type": "text",
    "id": "FJLxK8zpiWlv"
   },
   "source": [
    "### describe()"
   ]
  },
  {
   "cell_type": "code",
   "execution_count": 0,
   "metadata": {
    "colab": {},
    "colab_type": "code",
    "id": "REy0kk90iWMB"
   },
   "outputs": [],
   "source": [
    "df.describe() #Notice: by default, only the numeric columns are returned."
   ]
  },
  {
   "cell_type": "code",
   "execution_count": 0,
   "metadata": {
    "colab": {},
    "colab_type": "code",
    "id": "RGW3JgQ-icvE"
   },
   "outputs": [],
   "source": [
    "# Step 15. Summarize all the columns\n",
    "df.describe(include = \"all\") #Notice: By default, only the numeric columns are returned."
   ]
  },
  {
   "cell_type": "markdown",
   "metadata": {
    "colab_type": "text",
    "id": "W4X0zC2AeTQX"
   },
   "source": [
    "## More code for viewing and Inspecting Data\n",
    "https://towardsdatascience.com/a-quick-introduction-to-the-pandas-python-library-f1b678f34673\n",
    "\n",
    "- `df.mean()` Returns the mean of all columns\n",
    "- `df.corr()` Returns the correlation between columns in a data frame\n",
    "- `df.count()` Returns the number of non-null values in each data frame column\n",
    "- `df.max()` Returns the highest value in each column\n",
    "- `df.min()` Returns the lowest value in each column\n",
    "- `df.median()` Returns the median of each column\n",
    "- `df.std()` Returns the standard deviation of each column"
   ]
  },
  {
   "cell_type": "code",
   "execution_count": 0,
   "metadata": {
    "colab": {},
    "colab_type": "code",
    "id": "B6A-x08UbZ9V"
   },
   "outputs": [],
   "source": [
    "df.corr()"
   ]
  },
  {
   "cell_type": "markdown",
   "metadata": {
    "colab_type": "text",
    "id": "GgQaTOHVcQmd"
   },
   "source": [
    "# SELECT Clause"
   ]
  },
  {
   "cell_type": "markdown",
   "metadata": {
    "colab_type": "text",
    "id": "0HXZ9NvOcupa"
   },
   "source": [
    "## Select needed columns\n",
    "\n",
    "You can select a column `df[col]` and return column with label col as `Series` or a few columns `df[[col1, col2]]` and returns columns as a new `DataFrame`."
   ]
  },
  {
   "cell_type": "code",
   "execution_count": 0,
   "metadata": {
    "colab": {},
    "colab_type": "code",
    "id": "eMNrngksdaVE"
   },
   "outputs": [],
   "source": [
    "df = pd.read_csv('/content/drive/My Drive/Colab Notebooks/res/all_mixpanel.csv')\n",
    "df.head()"
   ]
  },
  {
   "cell_type": "code",
   "execution_count": 0,
   "metadata": {
    "colab": {},
    "colab_type": "code",
    "id": "DHQV6z0Dd_-5"
   },
   "outputs": [],
   "source": [
    "df[['handle','Date','path','Sessions']].head()"
   ]
  },
  {
   "cell_type": "code",
   "execution_count": 0,
   "metadata": {
    "colab": {},
    "colab_type": "code",
    "id": "O1GDN0-E6td8"
   },
   "outputs": [],
   "source": [
    "type(df[['handle','Date','path','Sessions']])"
   ]
  },
  {
   "cell_type": "code",
   "execution_count": 0,
   "metadata": {
    "colab": {},
    "colab_type": "code",
    "id": "BVuzri7Q7AUZ"
   },
   "outputs": [],
   "source": [
    "type(df['handle'])"
   ]
  },
  {
   "cell_type": "code",
   "execution_count": 0,
   "metadata": {
    "colab": {},
    "colab_type": "code",
    "id": "lvURUMqm7FFx"
   },
   "outputs": [],
   "source": [
    "type(df[['handle']])"
   ]
  },
  {
   "cell_type": "code",
   "execution_count": 0,
   "metadata": {
    "colab": {},
    "colab_type": "code",
    "id": "ZbJaRgvP66Ar"
   },
   "outputs": [],
   "source": [
    "type(df.path)"
   ]
  },
  {
   "cell_type": "markdown",
   "metadata": {
    "colab_type": "text",
    "id": "vFHDWk1AgKOG"
   },
   "source": [
    "## Add new column based on the existing columns"
   ]
  },
  {
   "cell_type": "markdown",
   "metadata": {
    "colab_type": "text",
    "id": "40HFgZkGoEy1"
   },
   "source": [
    "### df['NewCol']"
   ]
  },
  {
   "cell_type": "code",
   "execution_count": 0,
   "metadata": {
    "colab": {},
    "colab_type": "code",
    "id": "jXdeipXsfFyL"
   },
   "outputs": [],
   "source": [
    "df = pd.DataFrame({'Expiration':['10/2/2011', '11/2/2011', '12/2/2011', '13/2/2011'], \n",
    "                    'ItemID':['Apple', 'Banana', 'Cherry', 'Kiwi'], \n",
    "                    'Cost':[10000, 5000, 15000, 2000]}) \n",
    "df"
   ]
  },
  {
   "cell_type": "code",
   "execution_count": 0,
   "metadata": {
    "colab": {},
    "colab_type": "code",
    "id": "PaiFN9n9hF8n"
   },
   "outputs": [],
   "source": [
    "# Sales price would be 30% extra of Cost\n",
    "df['Price'] = df.Cost * 1.3\n",
    "\n",
    "df"
   ]
  },
  {
   "cell_type": "code",
   "execution_count": 0,
   "metadata": {
    "colab": {},
    "colab_type": "code",
    "id": "FV1g9IqY7v75"
   },
   "outputs": [],
   "source": [
    "df['Price'] = df['Price']*1.3\n",
    "df"
   ]
  },
  {
   "cell_type": "markdown",
   "metadata": {
    "colab_type": "text",
    "id": "O350UntjjSZJ"
   },
   "source": [
    "## Datetime operation"
   ]
  },
  {
   "cell_type": "markdown",
   "metadata": {
    "colab_type": "text",
    "id": "dNks-5mWn0W1"
   },
   "source": [
    "\n",
    "### .apply(pd.to_datetime)"
   ]
  },
  {
   "cell_type": "code",
   "execution_count": 0,
   "metadata": {
    "colab": {},
    "colab_type": "code",
    "id": "NRcIbuAtjiyW"
   },
   "outputs": [],
   "source": [
    "import pandas as pd\n",
    "\n",
    "path = 'http://data.nhi.gov.tw/Datasets/Download.ashx?rid=A21030000I-D50001-001&l=https://data.nhi.gov.tw/resource/mask/maskdata.csv'\n",
    "df = pd.read_csv(path)\n",
    "df.head()"
   ]
  },
  {
   "cell_type": "code",
   "execution_count": 0,
   "metadata": {
    "colab": {},
    "colab_type": "code",
    "id": "-7chWW0IksyY"
   },
   "outputs": [],
   "source": [
    "df_nhs = df.copy()\n",
    "df_nhs.columns = ['ID', 'Organization','Address','Phone','AdultAmount','KidAmount','Sourcetime']\n",
    "df_nhs.head()"
   ]
  },
  {
   "cell_type": "code",
   "execution_count": 0,
   "metadata": {
    "colab": {},
    "colab_type": "code",
    "id": "WwzhVocWASyZ"
   },
   "outputs": [],
   "source": [
    "len(df_nhs)"
   ]
  },
  {
   "cell_type": "code",
   "execution_count": 0,
   "metadata": {
    "colab": {},
    "colab_type": "code",
    "id": "f4swubgVkV60"
   },
   "outputs": [],
   "source": [
    "# df_nhs['date'] = df_nhs['Datetime'].dt.date\n",
    "df_nhs.dtypes"
   ]
  },
  {
   "cell_type": "code",
   "execution_count": 0,
   "metadata": {
    "colab": {},
    "colab_type": "code",
    "id": "natntGB5mfcT"
   },
   "outputs": [],
   "source": [
    "df_nhs['Datetime'] = df_nhs['Sourcetime'].apply(pd.to_datetime)\n",
    "df_nhs.dtypes"
   ]
  },
  {
   "cell_type": "markdown",
   "metadata": {
    "colab_type": "text",
    "id": "oFxQKhu3ohuB"
   },
   "source": [
    "### .dt.date"
   ]
  },
  {
   "cell_type": "code",
   "execution_count": 0,
   "metadata": {
    "colab": {},
    "colab_type": "code",
    "id": "s9fxuSiwn6ug"
   },
   "outputs": [],
   "source": [
    "df_nhs['Date'] = df_nhs['Datetime'].dt.date\n",
    "df_nhs.head()"
   ]
  },
  {
   "cell_type": "markdown",
   "metadata": {
    "colab_type": "text",
    "id": "354uXIjScd4X"
   },
   "source": [
    "## Data Cleaning - NaN"
   ]
  },
  {
   "cell_type": "markdown",
   "metadata": {
    "colab_type": "text",
    "id": "9hGTIplBo58V"
   },
   "source": [
    "### df.dropna\n",
    "\n",
    "```python \n",
    "DataFrameName.dropna(axis=0, how='any')\n",
    "````\n",
    "\n",
    "1. axis: axis takes int or string value for rows/columns. Input can be 0 or 1 for Integer and ‘index’ or ‘columns’ for String.\n",
    "2. how: how takes string value of two kinds only (‘any’ or ‘all’). ‘any’ drops the row/column if ANY value is Null and ‘all’ drops only if ALL values are null.\n",
    "\n",
    "- Reference https://www.w3resource.com/pandas/dataframe/dataframe-dropna.php\n",
    "\n",
    "NBA data \n",
    "https://drive.google.com/open?id=1Uzdua5o61cfXMz1K16NNcwLFqG91J6W4"
   ]
  },
  {
   "cell_type": "code",
   "execution_count": 0,
   "metadata": {
    "colab": {},
    "colab_type": "code",
    "id": "9lhpv9XGp51L"
   },
   "outputs": [],
   "source": [
    "NBA_data = pd.read_csv(\"/content/drive/My Drive/Colab Notebooks/res/nba.csv\")\n",
    "NBA_data"
   ]
  },
  {
   "cell_type": "code",
   "execution_count": 0,
   "metadata": {
    "colab": {},
    "colab_type": "code",
    "id": "5hVU_rMlrI_G"
   },
   "outputs": [],
   "source": [
    "# Dropping Rows with at least 1 null value\n",
    "df = NBA_data.copy()\n",
    "df = df.dropna(axis = 0, how ='any') \n",
    "df"
   ]
  },
  {
   "cell_type": "code",
   "execution_count": 0,
   "metadata": {
    "colab": {},
    "colab_type": "code",
    "id": "-7nZrACvr5SH"
   },
   "outputs": [],
   "source": [
    "# dropping row with all null values \n",
    "df = NBA_data.copy()\n",
    "df = df.dropna(axis = 0, how ='all') \n",
    "df"
   ]
  },
  {
   "cell_type": "code",
   "execution_count": 0,
   "metadata": {
    "colab": {},
    "colab_type": "code",
    "id": "eU-SlgYJsT2j"
   },
   "outputs": [],
   "source": [
    "# dropping column with all null values \n",
    "df = NBA_data.copy()\n",
    "df = df.dropna(axis = 1, how ='any') \n",
    "df"
   ]
  },
  {
   "cell_type": "markdown",
   "metadata": {
    "colab_type": "text",
    "id": "zGc8Ul1muQGO"
   },
   "source": [
    "### df.fillna()\n",
    "\n",
    "```python\n",
    "DataFrame.fillna(value=None, method=None, axis=None)\n",
    "```\n",
    "1. value : Static, dictionary, array, series or dataframe to fill instead of NaN.\n",
    "2. method : Method is used if user doesn’t pass any value. Pandas has different methods like `bfill`, `backfill` or `ffill` which fills the place with value in the Forward index or Previous/Back respectively.\n",
    "3. axis: axis takes int or string value for rows/columns. Input can be 0 or 1 for Integer and ‘index’ or ‘columns’ for String\n",
    "\n",
    "- https://www.w3resource.com/pandas/series/series-fillna.php"
   ]
  },
  {
   "cell_type": "code",
   "execution_count": 0,
   "metadata": {
    "colab": {},
    "colab_type": "code",
    "id": "09UClVRSupjo"
   },
   "outputs": [],
   "source": [
    "df = NBA_data.copy()\n",
    "df = df[2:7]\n",
    "df"
   ]
  },
  {
   "cell_type": "code",
   "execution_count": 0,
   "metadata": {
    "colab": {},
    "colab_type": "code",
    "id": "OPuVrSz2wZta"
   },
   "outputs": [],
   "source": [
    "#Replace all NaN elements with 0s.\n",
    "df.fillna(0)"
   ]
  },
  {
   "cell_type": "code",
   "execution_count": 0,
   "metadata": {
    "colab": {},
    "colab_type": "code",
    "id": "_MN38U1Vvgfg"
   },
   "outputs": [],
   "source": [
    "# Replace non-null values forward.\n",
    "df.fillna(method='ffill')"
   ]
  },
  {
   "cell_type": "code",
   "execution_count": 0,
   "metadata": {
    "colab": {},
    "colab_type": "code",
    "id": "3ZDRxx1RxPDc"
   },
   "outputs": [],
   "source": [
    "# Replace non-null values backward.\n",
    "df.fillna(method='bfill')"
   ]
  },
  {
   "cell_type": "markdown",
   "metadata": {
    "colab_type": "text",
    "id": "iI8FtuZUxsLr"
   },
   "source": [
    "# WHERE"
   ]
  },
  {
   "cell_type": "markdown",
   "metadata": {
    "colab_type": "text",
    "id": "6ZkGQfWdxuM5"
   },
   "source": [
    "###loc\n",
    "Gets rows (or columns) with particular **LABELS** from the index.\n",
    "```python\n",
    "df.loc[row, column]\n",
    "```"
   ]
  },
  {
   "cell_type": "code",
   "execution_count": 0,
   "metadata": {
    "colab": {},
    "colab_type": "code",
    "id": "X9MR5pMIxoZl"
   },
   "outputs": [],
   "source": [
    "# Data referenced from task https://shopline.atlassian.net/browse/BI-68\n",
    "# \n",
    "data = {'type1':[26, 38, 41, 56, 62], 'type2':[1745, 1803, 1881, 1932, 1914]} \n",
    "cb_merchants = pd.DataFrame(data, index =['2019-Q1', '2019-Q2', '2019-Q3', '2019-Q4', '2020-Q1']) \n",
    "\n",
    "cb_merchants\n",
    "# type1 : base country != base currency code\n",
    "# type2 : base country != delivery country"
   ]
  },
  {
   "cell_type": "code",
   "execution_count": 0,
   "metadata": {
    "colab": {},
    "colab_type": "code",
    "id": "evv-IJgcy8q6"
   },
   "outputs": [],
   "source": [
    "# What are the number for both tyoes in 2019-Q3\n",
    "cb_merchants.loc['2019-Q3'] "
   ]
  },
  {
   "cell_type": "code",
   "execution_count": 0,
   "metadata": {
    "colab": {},
    "colab_type": "code",
    "id": "YJkZ76d456yF"
   },
   "outputs": [],
   "source": [
    "# How many type2 merchants in 2019-Q3 and after\n",
    "cb_merchants.loc['2019-Q3': , 'type1':] "
   ]
  },
  {
   "cell_type": "code",
   "execution_count": 0,
   "metadata": {
    "colab": {},
    "colab_type": "code",
    "id": "hIoekwV15op9"
   },
   "outputs": [],
   "source": [
    "cb_merchants.loc[1:3] # slice up to and including label 3\n",
    "\n",
    "# Get error, because 1,3 are not index value"
   ]
  },
  {
   "cell_type": "code",
   "execution_count": 0,
   "metadata": {
    "colab": {},
    "colab_type": "code",
    "id": "FTezXYfS6q8Q"
   },
   "outputs": [],
   "source": [
    "df = cb_merchants.copy().reset_index()\n",
    "df.head()"
   ]
  },
  {
   "cell_type": "code",
   "execution_count": 0,
   "metadata": {
    "colab": {},
    "colab_type": "code",
    "id": "qqDLMrHQ8oH_"
   },
   "outputs": [],
   "source": [
    "df.loc[1:3, 'type1':'type2']\n",
    "# .loc must assign the value base on index value!"
   ]
  },
  {
   "cell_type": "markdown",
   "metadata": {
    "colab_type": "text",
    "id": "wff12ATWxvRQ"
   },
   "source": [
    "###iloc\n",
    "\n",
    "Gets rows (or columns) at **particular POSITIONS** in the index (so it only takes integers)"
   ]
  },
  {
   "cell_type": "code",
   "execution_count": 0,
   "metadata": {
    "colab": {},
    "colab_type": "code",
    "id": "kFYRH-Qk5CL9"
   },
   "outputs": [],
   "source": [
    "df.iloc[3:] # slice the first three rows"
   ]
  },
  {
   "cell_type": "code",
   "execution_count": 0,
   "metadata": {
    "colab": {},
    "colab_type": "code",
    "id": "jU0l7EP19FfK"
   },
   "outputs": [],
   "source": [
    "df.iloc[2:-1, 1:-1]"
   ]
  },
  {
   "cell_type": "markdown",
   "metadata": {
    "colab_type": "text",
    "id": "jtpqgOQVRzNc"
   },
   "source": [
    "#### Example :  `iloc` & `for loop`"
   ]
  },
  {
   "cell_type": "code",
   "execution_count": 0,
   "metadata": {
    "colab": {},
    "colab_type": "code",
    "id": "X2zAm8FqERIG"
   },
   "outputs": [],
   "source": [
    "NBA_data = pd.read_csv(\"/content/drive/My Drive/Colab Notebooks/res/nba.csv\") #.dropna(axis = 0, how ='any').reset_index()\n",
    "df = NBA_data.copy()\n",
    "df\n",
    "## Please remember to reset index"
   ]
  },
  {
   "cell_type": "code",
   "execution_count": 0,
   "metadata": {
    "colab": {},
    "colab_type": "code",
    "id": "O0Ib1t6Y7x29"
   },
   "outputs": [],
   "source": [
    "df['Tag'] = ''\n",
    "for i in range(df.shape[0]):\n",
    "  value = df.iloc[i, df.columns.get_loc(\"Salary\") ]\n",
    "  if value < 2000000:\n",
    "    df['Tag'][i] = 'Normal'\n",
    "  elif value >= 2000000 and value < 5000000:\n",
    "    df['Tag'][i] = 'Rich'\n",
    "  else:\n",
    "    df['Tag'][i] = 'Super Rich'\n",
    "\n",
    "df"
   ]
  },
  {
   "cell_type": "code",
   "execution_count": 0,
   "metadata": {
    "colab": {},
    "colab_type": "code",
    "id": "UXugd_vBRQWu"
   },
   "outputs": [],
   "source": []
  },
  {
   "cell_type": "markdown",
   "metadata": {
    "colab_type": "text",
    "id": "Ed6LKT7nSq8P"
   },
   "source": [
    "#### Example: loc and conditions\n"
   ]
  },
  {
   "cell_type": "code",
   "execution_count": 0,
   "metadata": {
    "colab": {},
    "colab_type": "code",
    "id": "YV1Q8r5A9mc1"
   },
   "outputs": [],
   "source": [
    "#Practice mix with loc and conditions\n",
    "df = pd.read_csv('/content/drive/My Drive/Colab Notebooks/res/all_mixpanel.csv', index_col= 'handle')\n",
    "df.loc[df.path.isin(['/', '/orders']), ['path','Date']]"
   ]
  },
  {
   "cell_type": "markdown",
   "metadata": {
    "colab_type": "text",
    "id": "wJtYHLL4yAzC"
   },
   "source": [
    "## filter by column operations\n",
    "```python\n",
    "df[(col condition)]\n",
    "```"
   ]
  },
  {
   "cell_type": "code",
   "execution_count": 0,
   "metadata": {
    "colab": {},
    "colab_type": "code",
    "id": "H_JadF6BHCaX"
   },
   "outputs": [],
   "source": [
    "df = NBA_data.copy()\n",
    "# df\n",
    "df.Position == 'SG'"
   ]
  },
  {
   "cell_type": "code",
   "execution_count": 0,
   "metadata": {
    "colab": {},
    "colab_type": "code",
    "id": "Ai_vrN6Yyofr"
   },
   "outputs": [],
   "source": [
    "df = NBA_data.copy()\n",
    "df = df[(df.Position == 'SG') & (df.Salary >= 1000000)]\n",
    "# df = df[(df['Position'] == 'SG') & (df['Salary'] >= 1000000)]\n",
    "df"
   ]
  },
  {
   "cell_type": "markdown",
   "metadata": {
    "colab_type": "text",
    "id": "hYxrZvBE1yft"
   },
   "source": [
    "## .str.startswith"
   ]
  },
  {
   "cell_type": "code",
   "execution_count": 0,
   "metadata": {
    "colab": {},
    "colab_type": "code",
    "id": "3D5c7zEW11gs"
   },
   "outputs": [],
   "source": [
    "df = NBA_data.copy().dropna(how ='any') \n",
    "df = df[df['Name'].str.startswith('R')]\n",
    "df.head()"
   ]
  },
  {
   "cell_type": "markdown",
   "metadata": {
    "colab_type": "text",
    "id": "r-RWkBDa0a5D"
   },
   "source": [
    "## .str.contains\n",
    "\n",
    "```python\n",
    "Series.str.contains(self, pat, case=True, flags=0, na=nan, regex=True)\n",
    "```\n",
    "\n",
    "- https://www.w3resource.com/pandas/series/series-str-contains.php"
   ]
  },
  {
   "cell_type": "code",
   "execution_count": 0,
   "metadata": {
    "colab": {},
    "colab_type": "code",
    "id": "6ZnftYOMz7QE"
   },
   "outputs": [],
   "source": [
    "# df = NBA_data.copy()\n",
    "# df = df[(df.Name.str.contains('Blake|Jonas', na=False))]\n",
    "# df\n",
    "\n",
    "df.Name.str.contains('Blake|Jonas', na=False)"
   ]
  },
  {
   "cell_type": "markdown",
   "metadata": {
    "colab_type": "text",
    "id": "S9ctQdFBvlOR"
   },
   "source": [
    "# GROUP BY clause"
   ]
  },
  {
   "cell_type": "markdown",
   "metadata": {
    "colab_type": "text",
    "id": "eAjULgudvSTX"
   },
   "source": [
    "### df.groupby()\n",
    "\n",
    "```python\n",
    "DataFrame.groupby(by=None, axis=0, level=None, as_index=True, sort=True, group_keys=True, squeeze=False, **kwargs)\n",
    "```\n",
    "\n",
    "1. by : mapping, function, str, or iterable\n",
    "1. axis : int, default 0\n",
    "level : If the axis is a MultiIndex (hierarchical), group by a particular level or levels\n",
    "1. as_index : For aggregated output, return object with group labels as the index. Only relevant for DataFrame input. as_index=False is effectively “SQL-style” grouped output\n",
    "1. sort : Sort group keys. Get better performance by turning this off. Note this does not influence the order of observations within each group. groupby preserves the order of rows within each group.\n",
    "1. group_keys : When calling apply, add group keys to index to identify pieces\n",
    "squeeze : Reduce the dimensionality of the return type if possible, otherwise return a consistent type\n",
    "\n",
    "- https://www.geeksforgeeks.org/python-pandas-dataframe-groupby/"
   ]
  },
  {
   "cell_type": "code",
   "execution_count": 0,
   "metadata": {
    "colab": {},
    "colab_type": "code",
    "id": "JUqP6b2ov_Cz"
   },
   "outputs": [],
   "source": [
    "df = NBA_data.copy().dropna(axis=0, how='any')\n",
    "df"
   ]
  },
  {
   "cell_type": "markdown",
   "metadata": {
    "colab_type": "text",
    "id": "YSrViaLHzj3o"
   },
   "source": [
    "### df.groupby().size()"
   ]
  },
  {
   "cell_type": "code",
   "execution_count": 0,
   "metadata": {
    "colab": {},
    "colab_type": "code",
    "id": "cHjZPOQsyuZl"
   },
   "outputs": [],
   "source": [
    "NBA_grp = df.groupby(by = ['Team','Position']).size().reset_index()\n",
    "NBA_grp"
   ]
  },
  {
   "cell_type": "markdown",
   "metadata": {
    "colab_type": "text",
    "id": "SfYsOaDm3Ukp"
   },
   "source": [
    "### df.groupby().count()"
   ]
  },
  {
   "cell_type": "code",
   "execution_count": 0,
   "metadata": {
    "colab": {},
    "colab_type": "code",
    "id": "9EgPLRMV3aiJ"
   },
   "outputs": [],
   "source": [
    "df = NBA_data.copy().dropna(axis=0, how='any')\n",
    "NBA_grp = df.groupby(by = ['Team','Position']).count().reset_index()\n",
    "NBA_grp.head(10)"
   ]
  },
  {
   "cell_type": "markdown",
   "metadata": {
    "colab_type": "text",
    "id": "uJpyDCe92qtS"
   },
   "source": [
    "### df.groupby().sum()"
   ]
  },
  {
   "cell_type": "code",
   "execution_count": 0,
   "metadata": {
    "colab": {},
    "colab_type": "code",
    "id": "xS7U_5rE2999"
   },
   "outputs": [],
   "source": [
    "df = NBA_data.copy().dropna(axis=0, how='any')\n",
    "NBA_grp = df.groupby(by = ['Team','Position']).sum().reset_index()\n",
    "NBA_grp.head(10)"
   ]
  },
  {
   "cell_type": "markdown",
   "metadata": {
    "colab_type": "text",
    "id": "3KPSylay3qj6"
   },
   "source": [
    "### df.groupby().agg()"
   ]
  },
  {
   "cell_type": "code",
   "execution_count": 0,
   "metadata": {
    "colab": {},
    "colab_type": "code",
    "id": "jSUodzJUz1QE"
   },
   "outputs": [],
   "source": [
    "df = NBA_data.copy().dropna(axis=0, how='any')\n",
    "NBA_grp = df.groupby(by = ['College','Position']).agg({'Age': 'nunique', 'Salary':'median', 'Height':'max','Weight':'mean'})\n",
    "NBA_grp.head(13)"
   ]
  },
  {
   "cell_type": "markdown",
   "metadata": {
    "colab_type": "text",
    "id": "fBvUBLLA-9S8"
   },
   "source": [
    "# ODER BY clause\n"
   ]
  },
  {
   "cell_type": "markdown",
   "metadata": {
    "colab_type": "text",
    "id": "_sBfRtnC_Jaz"
   },
   "source": [
    "## .sort_values\n",
    "```python\n",
    "DataFrame.sort_values(by, axis=0, ascending=True, na_position='last')\n",
    "```\n",
    "1. by: Single/List of column names to sort Data Frame by.\n",
    "2. axis: 0 or ‘index’ for rows and 1 or ‘columns’ for Column.\n",
    "3. ascending: Boolean value which sorts Data frame in ascending order if True.\n",
    "\n",
    "4. na_position: Takes two string input 'last' or ‘first’ to set position of Null values. Default is ‘last’.\n",
    "\n",
    "- https://www.geeksforgeeks.org/python-pandas-dataframe-sort_values-set-1/"
   ]
  },
  {
   "cell_type": "code",
   "execution_count": 0,
   "metadata": {
    "colab": {},
    "colab_type": "code",
    "id": "dT3Apjrg_Ml0"
   },
   "outputs": [],
   "source": [
    "df = mix_panel.copy()\n",
    "# df.sort_values(['handle', 'path','Date'], ascending = False)\n",
    "df.sort_values(['handle', 'path','Date'], ascending = [False, True, False])"
   ]
  },
  {
   "cell_type": "markdown",
   "metadata": {
    "colab_type": "text",
    "id": "qyqXHcKw59es"
   },
   "source": [
    "# .pivot_table()\n",
    "\n",
    "```python\n",
    "pandas.pivot_table(data, values=None, index=None, columns=None, aggfunc=’mean’, fill_value=None, margins=False, dropna=True)\n",
    "```\n",
    "\n",
    "1. `data` : DataFrame\n",
    "1. `values` : column to aggregate, optional\n",
    "1. `index`: column, Grouper, array, or list of the previous\n",
    "1. `columns`: column, Grouper, array, or list of the previous\n",
    "\n",
    "1. `aggfunc`: function, list of functions, dict, default `numpy.mean`\n",
    "  -> If list of functions passed, the resulting pivot table will have hierarchical columns whose top level are the function names.\n",
    "  -> If dict is passed, the key is column to aggregate and value is function or list of functions\n",
    "\n",
    "  - np.mean\n",
    "  - np.std\n",
    "  - 'count'\n",
    "  - 'sum'\n",
    "  - 'min'\n",
    "  - 'max'\n",
    "  - 'median'\n",
    "\n",
    "\n",
    "\n",
    "6. `fill_value`[scalar, default None] : Value to replace missing values with\n",
    "margins[boolean, default False] : Add all row / columns (e.g. for subtotal / grand totals)\n",
    "7. `dropna`[boolean, default True] : Do not include columns whose entries are all NaN\n",
    "\n",
    "- https://pandas.pydata.org/pandas-docs/stable/reference/api/pandas.pivot_table.html"
   ]
  },
  {
   "cell_type": "code",
   "execution_count": 0,
   "metadata": {
    "colab": {},
    "colab_type": "code",
    "id": "37r35AvjVGoM"
   },
   "outputs": [],
   "source": [
    "df = NBA_data.copy()\n",
    "\n",
    "table = pd.pivot_table(df, \n",
    "                       index =['Team','Position'], \n",
    "                       aggfunc= {'Age':'median','Height':'max', 'Name':'count', 'College':pd.Series.nunique})\n",
    "table\n",
    "# df"
   ]
  },
  {
   "cell_type": "code",
   "execution_count": 0,
   "metadata": {
    "colab": {},
    "colab_type": "code",
    "id": "pYg5BcRs6QCi"
   },
   "outputs": [],
   "source": [
    "df = mix_panel.copy().reset_index()\n",
    "df\n",
    "pd.pivot_table(df, index =['handle', 'path'], columns=['Date'])"
   ]
  },
  {
   "cell_type": "code",
   "execution_count": 0,
   "metadata": {
    "colab": {},
    "colab_type": "code",
    "id": "xMVToSDe7Bm2"
   },
   "outputs": [],
   "source": [
    "df = mix_panel.copy()\n",
    "table = pd.pivot_table(df, index =['handle'], columns=['path'], fill_value= 0, aggfunc= {'Date':pd.Series.nunique})\n",
    "table"
   ]
  },
  {
   "cell_type": "markdown",
   "metadata": {
    "colab_type": "text",
    "id": "HOBwrN9dbBzD"
   },
   "source": [
    "# JOIN and Combine\n",
    "\n",
    "https://blog.codinghorror.com/a-visual-explanation-of-sql-joins/\n",
    "![](https://miro.medium.com/max/2588/1*kGuUJxJwsuiLRa5pL3bsCA.png)\n",
    "\n",
    "\n",
    "- https://chrisalbon.com/python/data_wrangling/pandas_join_merge_dataframe/"
   ]
  },
  {
   "cell_type": "code",
   "execution_count": 0,
   "metadata": {
    "colab": {},
    "colab_type": "code",
    "id": "VEYzOoRU7HI5"
   },
   "outputs": [],
   "source": [
    "df = {\n",
    "        'merchant_id': ['001', '002', '003', '004', '005','100'],\n",
    "        'handle': ['Alex', 'Benny', 'Charlie', 'Dean', 'Evans','Iwona'], \n",
    "        'path': ['Customer', 'Analytics', 'Orders', 'Product', 'Customer','Product']\n",
    "      }\n",
    "df_a = pd.DataFrame(df, columns = ['merchant_id', 'handle', 'path'])\n",
    "df_a"
   ]
  },
  {
   "cell_type": "code",
   "execution_count": 0,
   "metadata": {
    "colab": {},
    "colab_type": "code",
    "id": "laB2Bq2TbLxT"
   },
   "outputs": [],
   "source": [
    "df = {\n",
    "        'merchant_id': ['005', '002', '006', '007', '008'],\n",
    "        'handle': ['Evans', 'Benny', 'Freddy', 'George', 'Hugo'], \n",
    "        'path': ['Analytics', 'Customer', 'Orders', 'Product', 'Orders']\n",
    "      }\n",
    "df_b = pd.DataFrame(df, columns = ['merchant_id', 'handle', 'path'])\n",
    "df_b"
   ]
  },
  {
   "cell_type": "markdown",
   "metadata": {
    "colab_type": "text",
    "id": "_vhb7csQbwjs"
   },
   "source": [
    "## .concat()\n",
    "\n",
    "```python\n",
    "df.concat([df1, df2],axis=1)\n",
    "```"
   ]
  },
  {
   "cell_type": "code",
   "execution_count": 0,
   "metadata": {
    "colab": {},
    "colab_type": "code",
    "id": "50cmm3HJbXRZ"
   },
   "outputs": [],
   "source": [
    "# Join the two dataframes along rows\n",
    "# similar with UNION\n",
    "df_new = pd.concat([df_a, df_b])\n",
    "df_new"
   ]
  },
  {
   "cell_type": "code",
   "execution_count": 0,
   "metadata": {
    "colab": {},
    "colab_type": "code",
    "id": "u0Y2uAKabVvK"
   },
   "outputs": [],
   "source": [
    "# Join the two dataframes along columns\n",
    "# pd.concat([df_a, df_b], axis=1)\n",
    "pd.concat([df_b, df_a], axis=1)"
   ]
  },
  {
   "cell_type": "markdown",
   "metadata": {
    "colab_type": "text",
    "id": "9Mk_cT0FcLDx"
   },
   "source": [
    "## .merge()\n",
    "Combine info alone with another dataframe\n",
    "\n",
    "```python\n",
    "pd.merge(left, right, \n",
    "          how='inner',  #inner, outer, left, right\n",
    "          on=None, \n",
    "          sort=True,\n",
    "          suffixes=('_x', '_y')\n",
    "         )\n",
    "```\n",
    "\n",
    "suffixes: A tuple of string suffixes to apply to overlapping columns. Defaults to ('_x', '_y')."
   ]
  },
  {
   "cell_type": "code",
   "execution_count": 0,
   "metadata": {
    "colab": {},
    "colab_type": "code",
    "id": "AZ83G5O9cWDx"
   },
   "outputs": [],
   "source": [
    "raw_data = {\n",
    "        'merchant_id': ['001', '002', '003', '004', '005', '006', '007', '008', '009', '010'],\n",
    "        'current_plan': ['Pro', 'Lite', 'Basic', 'Pro', 'Lite', 'Basic', 'Basic', 'Pro', 'Lite', 'Basic']}\n",
    "df_n = pd.DataFrame(raw_data, columns = ['merchant_id','current_plan'])\n",
    "df_n"
   ]
  },
  {
   "cell_type": "markdown",
   "metadata": {
    "colab_type": "text",
    "id": "6dQRMyOmjSpw"
   },
   "source": [
    "### INNER JOIN\n",
    "\n",
    "Merge with inner join\n",
    "“Inner join produces only the set of records that match in both Table A and Table B.” "
   ]
  },
  {
   "cell_type": "code",
   "execution_count": 0,
   "metadata": {
    "colab": {},
    "colab_type": "code",
    "id": "jDXHA-30cEob"
   },
   "outputs": [],
   "source": [
    "# Merge two dataframes along the subject_id value\n",
    "pd.merge(df_a, df_b, on='merchant_id', how ='outer')"
   ]
  },
  {
   "cell_type": "code",
   "execution_count": 0,
   "metadata": {
    "colab": {},
    "colab_type": "code",
    "id": "nnDAMRYWkpyC"
   },
   "outputs": [],
   "source": [
    "pd.merge(df_a, df_b, on='merchant_id', how = 'inner')"
   ]
  },
  {
   "cell_type": "markdown",
   "metadata": {
    "colab_type": "text",
    "id": "caK5emjujXuP"
   },
   "source": [
    "### LEFT JOIN\n",
    "\n",
    "Merge with left join\n",
    "“Left outer join produces a complete set of records from Table A, with the matching records (where available) in Table B. If there is no match, the right side will contain null.”"
   ]
  },
  {
   "cell_type": "code",
   "execution_count": 0,
   "metadata": {
    "colab": {},
    "colab_type": "code",
    "id": "_CaxePGTceN2"
   },
   "outputs": [],
   "source": [
    "# Merge two dataframes with both the left and right dataframes using the subject_id key\n",
    "pd.merge(df_new, df_n, on='merchant_id', how='left')"
   ]
  },
  {
   "cell_type": "markdown",
   "metadata": {
    "colab_type": "text",
    "id": "ZxlCdg_QkY6n"
   },
   "source": [
    "### suffix \n",
    "Merge while adding a suffix往後添加 to duplicate column names"
   ]
  },
  {
   "cell_type": "code",
   "execution_count": 0,
   "metadata": {
    "colab": {},
    "colab_type": "code",
    "id": "C8o8QbH-dGrn"
   },
   "outputs": [],
   "source": [
    "pd.merge(df_a, df_b, on='merchant_id', how='left', suffixes=('_left', '_right'))"
   ]
  }
 ],
 "metadata": {
  "colab": {
   "authorship_tag": "ABX9TyNTHYh1gU+eTN/ub8Xg7xRQ",
   "collapsed_sections": [],
   "mount_file_id": "144tLaThIYfvsi7-nQxqteZp_l0XbTUXk",
   "name": "2. Pandas.ipynb",
   "provenance": [],
   "toc_visible": true
  },
  "kernelspec": {
   "display_name": "Python 3",
   "language": "python",
   "name": "python3"
  },
  "language_info": {
   "codemirror_mode": {
    "name": "ipython",
    "version": 3
   },
   "file_extension": ".py",
   "mimetype": "text/x-python",
   "name": "python",
   "nbconvert_exporter": "python",
   "pygments_lexer": "ipython3",
   "version": "3.8.8"
  }
 },
 "nbformat": 4,
 "nbformat_minor": 1
}
